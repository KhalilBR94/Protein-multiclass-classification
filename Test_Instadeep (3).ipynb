{
  "nbformat": 4,
  "nbformat_minor": 0,
  "metadata": {
    "colab": {
      "name": "Test_Instadeep.ipynb",
      "provenance": [],
      "collapsed_sections": []
    },
    "kernelspec": {
      "display_name": "Python 3",
      "name": "python3"
    },
    "language_info": {
      "name": "python"
    },
    "accelerator": "GPU"
  },
  "cells": [
    {
      "cell_type": "code",
      "metadata": {
        "id": "iugbvEn_mxYR"
      },
      "source": [
        "import numpy as np\n",
        "import pandas as pd \n",
        "import os\n",
        "import matplotlib.pyplot as plt\n",
        "import seaborn as sns"
      ],
      "execution_count": null,
      "outputs": []
    },
    {
      "cell_type": "code",
      "metadata": {
        "id": "W6crVe2jGZSp"
      },
      "source": [
        "import os\n",
        "import gc\n",
        "\n",
        "import numpy as np\n",
        "import pandas as pd\n",
        "import matplotlib.pyplot as plt\n",
        "import seaborn as sns\n",
        "\n",
        "from collections import Counter\n",
        "\n",
        "\n",
        "from sklearn.preprocessing import LabelEncoder\n",
        "\n",
        "from keras.models import Model\n",
        "from keras.regularizers import l2\n",
        "from keras.constraints import max_norm\n",
        "from keras.utils import to_categorical\n",
        "from keras.preprocessing.text import Tokenizer\n",
        "from keras.preprocessing.sequence import pad_sequences\n",
        "from keras.callbacks import EarlyStopping\n",
        "from keras.layers import Input, Dense, Dropout, Flatten, Activation\n",
        "from keras.layers import Conv1D, Add, MaxPooling1D, BatchNormalization\n",
        "from keras.layers import Embedding, Bidirectional, GlobalMaxPooling1D"
      ],
      "execution_count": 19,
      "outputs": []
    },
    {
      "cell_type": "markdown",
      "metadata": {
        "id": "yGcadKYuY6D5"
      },
      "source": [
        "# Loading data"
      ]
    },
    {
      "cell_type": "markdown",
      "metadata": {
        "id": "DJy0AAbu1oC_"
      },
      "source": [
        "**Loading data**\n",
        "\n",
        "The Dataset contains these folders :\n",
        "Random_split: Test | Dev | Train\n",
        "\n",
        "If you use Google Colab : import the dataset in google drive.\n",
        "Enable GPU in the notebook parameters \n",
        "\n",
        "data link : https://www.kaggle.com/googleai/pfam-seed-random-split\n"
      ]
    },
    {
      "cell_type": "code",
      "metadata": {
        "colab": {
          "base_uri": "https://localhost:8080/"
        },
        "id": "WzvDkStml_VZ",
        "outputId": "87e9e0bb-d4d9-4db2-e477-cd6a24394f1a"
      },
      "source": [
        "from google.colab import drive\n",
        "drive.mount('/content/drive')\n"
      ],
      "execution_count": null,
      "outputs": [
        {
          "output_type": "stream",
          "text": [
            "Mounted at /content/drive\n"
          ],
          "name": "stdout"
        }
      ]
    },
    {
      "cell_type": "code",
      "metadata": {
        "colab": {
          "base_uri": "https://localhost:8080/"
        },
        "id": "glChvVEtmDoA",
        "outputId": "5595d7ce-ccc2-40dc-e9c8-cfc43c0730c7"
      },
      "source": [
        "!ls \"/content/drive/Shareddrives/Test ID/Protein classification/random_split\" # list the files under this directory\n"
      ],
      "execution_count": null,
      "outputs": [
        {
          "output_type": "stream",
          "text": [
            "dev  random_split  test  train\n"
          ],
          "name": "stdout"
        }
      ]
    },
    {
      "cell_type": "code",
      "metadata": {
        "colab": {
          "base_uri": "https://localhost:8080/"
        },
        "id": "6IlCvOhRmgWt",
        "outputId": "df63fdb3-193a-4cc2-c872-3e24f647dfdf"
      },
      "source": [
        "data_path = '/content/drive/Shareddrives/Test ID/Protein classification/random_split'\n",
        "print('Available data', os.listdir(data_path))"
      ],
      "execution_count": null,
      "outputs": [
        {
          "output_type": "stream",
          "text": [
            "Available data ['dev', 'random_split', 'train', 'test']\n"
          ],
          "name": "stdout"
        }
      ]
    },
    {
      "cell_type": "markdown",
      "metadata": {
        "id": "Z-aNumjqZOdD"
      },
      "source": [
        "# Data exploration"
      ]
    },
    {
      "cell_type": "markdown",
      "metadata": {
        "id": "9PKEQV9n4gh5"
      },
      "source": [
        "**Data exploration**\n",
        "\n",
        "The aim of this part is to make an observations of our data.\n",
        "That's why we will vizualize our data.\n",
        "We have to be sure that no data are missing. \n"
      ]
    },
    {
      "cell_type": "code",
      "metadata": {
        "id": "alqHjh8zm2kZ"
      },
      "source": [
        "def read_data(partition):\n",
        "  data = []\n",
        "  for fn in os.listdir(os.path.join(data_path, partition)):\n",
        "    with open(os.path.join(data_path, partition, fn)) as f:\n",
        "      data.append(pd.read_csv(f, index_col=None))\n",
        "  return pd.concat(data)"
      ],
      "execution_count": null,
      "outputs": []
    },
    {
      "cell_type": "code",
      "metadata": {
        "colab": {
          "base_uri": "https://localhost:8080/",
          "height": 456
        },
        "id": "l9z3C35UnPeZ",
        "outputId": "08f2cc49-9db1-473a-fb87-8fc425da4ef2"
      },
      "source": [
        "data1= read_data('train')\n",
        "data1"
      ],
      "execution_count": null,
      "outputs": [
        {
          "output_type": "execute_result",
          "data": {
            "text/html": [
              "<div>\n",
              "<style scoped>\n",
              "    .dataframe tbody tr th:only-of-type {\n",
              "        vertical-align: middle;\n",
              "    }\n",
              "\n",
              "    .dataframe tbody tr th {\n",
              "        vertical-align: top;\n",
              "    }\n",
              "\n",
              "    .dataframe thead th {\n",
              "        text-align: right;\n",
              "    }\n",
              "</style>\n",
              "<table border=\"1\" class=\"dataframe\">\n",
              "  <thead>\n",
              "    <tr style=\"text-align: right;\">\n",
              "      <th></th>\n",
              "      <th>family_id</th>\n",
              "      <th>sequence_name</th>\n",
              "      <th>family_accession</th>\n",
              "      <th>aligned_sequence</th>\n",
              "      <th>sequence</th>\n",
              "    </tr>\n",
              "  </thead>\n",
              "  <tbody>\n",
              "    <tr>\n",
              "      <th>0</th>\n",
              "      <td>Cation_ATPase_C</td>\n",
              "      <td>A0B648_METTP/704-874</td>\n",
              "      <td>PF00689.21</td>\n",
              "      <td>PAPLLALQILWINVVAEDFP.AIGLAVEPA.R...SGIMNE.RPR....</td>\n",
              "      <td>PAPLLALQILWINVVAEDFPAIGLAVEPARSGIMNERPRNPKEPIL...</td>\n",
              "    </tr>\n",
              "    <tr>\n",
              "      <th>1</th>\n",
              "      <td>DUF1635</td>\n",
              "      <td>U5GKL9_POPTR/18-237</td>\n",
              "      <td>PF07795.11</td>\n",
              "      <td>KTMDDLRNSLLYTTLELEQTKVAVQEELRKKDDQLFHLKDLLSKAI...</td>\n",
              "      <td>KTMDDLRNSLLYTTLELEQTKVAVQEELRKKDDQLFHLKDLLSKAI...</td>\n",
              "    </tr>\n",
              "    <tr>\n",
              "      <th>2</th>\n",
              "      <td>TGT</td>\n",
              "      <td>A5GIE9_SYNPW/12-370</td>\n",
              "      <td>PF01702.18</td>\n",
              "      <td>C..RHT.A....ARCGCFQT......PH.G.....P...VTTP.RF...</td>\n",
              "      <td>CRHTAARCGCFQTPHGPVTTPRFMPVGTLATVKGVTADQLATTGAQ...</td>\n",
              "    </tr>\n",
              "    <tr>\n",
              "      <th>3</th>\n",
              "      <td>HRM</td>\n",
              "      <td>Q9PWB7_DANRE/90-158</td>\n",
              "      <td>PF02793.22</td>\n",
              "      <td>VGVCVPEWDGL.ICWPQGFPGTLTKTPCPGYIYDFNHA...........</td>\n",
              "      <td>VGVCVPEWDGLICWPQGFPGTLTKTPCPGYIYDFNHAAHAYRRCDS...</td>\n",
              "    </tr>\n",
              "    <tr>\n",
              "      <th>4</th>\n",
              "      <td>Imm-NTF2-2</td>\n",
              "      <td>A4YMX6_BRASO/45-110</td>\n",
              "      <td>PF15631.6</td>\n",
              "      <td>TAARIAERYLAVHYPAFDTIAMPPIVDDEGD...VWKVSYELPPNM...</td>\n",
              "      <td>TAARIAERYLAVHYPAFDTIAMPPIVDDEGDVWKVSYELPPNMAGG...</td>\n",
              "    </tr>\n",
              "    <tr>\n",
              "      <th>...</th>\n",
              "      <td>...</td>\n",
              "      <td>...</td>\n",
              "      <td>...</td>\n",
              "      <td>...</td>\n",
              "      <td>...</td>\n",
              "    </tr>\n",
              "    <tr>\n",
              "      <th>13839</th>\n",
              "      <td>Tudor_1_RapA</td>\n",
              "      <td>A0A166MK03_9GAMM/3-53</td>\n",
              "      <td>PF18339.1</td>\n",
              "      <td>YKVGQRWVSQTEPKLGLGMISEIEGRRILITFPAADEIRTYATDQA...</td>\n",
              "      <td>YKVGQRWVSQTEPKLGLGMISEIEGRRILITFPAADEIRTYATDQA...</td>\n",
              "    </tr>\n",
              "    <tr>\n",
              "      <th>13840</th>\n",
              "      <td>DUF692</td>\n",
              "      <td>K9QH41_9NOSO/10-272</td>\n",
              "      <td>PF05114.13</td>\n",
              "      <td>GVGLGFREPFKSDLF...............LNRQQVDFLEIVAEHY...</td>\n",
              "      <td>GVGLGFREPFKSDLFLNRQQVDFLEIVAEHYLDVPVQKQQELEILA...</td>\n",
              "    </tr>\n",
              "    <tr>\n",
              "      <th>13841</th>\n",
              "      <td>Glycos_trans_3N</td>\n",
              "      <td>B8DTA1_BIFA0/7-69</td>\n",
              "      <td>PF02885.17</td>\n",
              "      <td>KSILTKLVQG.....N.HLTAEESEWFVDDL..MK.GN...........</td>\n",
              "      <td>KSILTKLVQGNHLTAEESEWFVDDLMKGNANPAAVGAVLATQQQLG...</td>\n",
              "    </tr>\n",
              "    <tr>\n",
              "      <th>13842</th>\n",
              "      <td>Elong-fact-P_C</td>\n",
              "      <td>B5GWZ5_STRC2/130-185</td>\n",
              "      <td>PF09285.11</td>\n",
              "      <td>VELVIAETEP.GVQG..DRS...........TG.G.TKPAKL.E.T...</td>\n",
              "      <td>VELVIAETEPGVQGDRSTGGTKPAKLETGYTVQVPLFITTGEKIKV...</td>\n",
              "    </tr>\n",
              "    <tr>\n",
              "      <th>13843</th>\n",
              "      <td>PepSY_TM</td>\n",
              "      <td>D0J3P7_COMT2/6-406</td>\n",
              "      <td>PF03929.16</td>\n",
              "      <td>TVVHRWVGLFLAAFLVMTGLTGAVL................SWD.....</td>\n",
              "      <td>TVVHRWVGLFLAAFLVMTGLTGAVLSWDHEIDDWLNADMLHTPGRG...</td>\n",
              "    </tr>\n",
              "  </tbody>\n",
              "</table>\n",
              "<p>1086741 rows × 5 columns</p>\n",
              "</div>"
            ],
            "text/plain": [
              "             family_id  ...                                           sequence\n",
              "0      Cation_ATPase_C  ...  PAPLLALQILWINVVAEDFPAIGLAVEPARSGIMNERPRNPKEPIL...\n",
              "1              DUF1635  ...  KTMDDLRNSLLYTTLELEQTKVAVQEELRKKDDQLFHLKDLLSKAI...\n",
              "2                  TGT  ...  CRHTAARCGCFQTPHGPVTTPRFMPVGTLATVKGVTADQLATTGAQ...\n",
              "3                  HRM  ...  VGVCVPEWDGLICWPQGFPGTLTKTPCPGYIYDFNHAAHAYRRCDS...\n",
              "4           Imm-NTF2-2  ...  TAARIAERYLAVHYPAFDTIAMPPIVDDEGDVWKVSYELPPNMAGG...\n",
              "...                ...  ...                                                ...\n",
              "13839     Tudor_1_RapA  ...  YKVGQRWVSQTEPKLGLGMISEIEGRRILITFPAADEIRTYATDQA...\n",
              "13840           DUF692  ...  GVGLGFREPFKSDLFLNRQQVDFLEIVAEHYLDVPVQKQQELEILA...\n",
              "13841  Glycos_trans_3N  ...  KSILTKLVQGNHLTAEESEWFVDDLMKGNANPAAVGAVLATQQQLG...\n",
              "13842   Elong-fact-P_C  ...  VELVIAETEPGVQGDRSTGGTKPAKLETGYTVQVPLFITTGEKIKV...\n",
              "13843         PepSY_TM  ...  TVVHRWVGLFLAAFLVMTGLTGAVLSWDHEIDDWLNADMLHTPGRG...\n",
              "\n",
              "[1086741 rows x 5 columns]"
            ]
          },
          "metadata": {
            "tags": []
          },
          "execution_count": 8
        }
      ]
    },
    {
      "cell_type": "code",
      "metadata": {
        "colab": {
          "base_uri": "https://localhost:8080/",
          "height": 456
        },
        "id": "Pg4tCo9JnUHl",
        "outputId": "5ccd3559-a0cc-4ec9-b574-a8743d9fd069"
      },
      "source": [
        "data2= read_data('test')\n",
        "data2"
      ],
      "execution_count": null,
      "outputs": [
        {
          "output_type": "execute_result",
          "data": {
            "text/html": [
              "<div>\n",
              "<style scoped>\n",
              "    .dataframe tbody tr th:only-of-type {\n",
              "        vertical-align: middle;\n",
              "    }\n",
              "\n",
              "    .dataframe tbody tr th {\n",
              "        vertical-align: top;\n",
              "    }\n",
              "\n",
              "    .dataframe thead th {\n",
              "        text-align: right;\n",
              "    }\n",
              "</style>\n",
              "<table border=\"1\" class=\"dataframe\">\n",
              "  <thead>\n",
              "    <tr style=\"text-align: right;\">\n",
              "      <th></th>\n",
              "      <th>family_id</th>\n",
              "      <th>sequence_name</th>\n",
              "      <th>family_accession</th>\n",
              "      <th>aligned_sequence</th>\n",
              "      <th>sequence</th>\n",
              "    </tr>\n",
              "  </thead>\n",
              "  <tbody>\n",
              "    <tr>\n",
              "      <th>0</th>\n",
              "      <td>GNAT_acetyltran</td>\n",
              "      <td>R6RQF6_9CLOT/17-251</td>\n",
              "      <td>PF12746.7</td>\n",
              "      <td>AFLFSGR..REVMAD....ACLQGMM..GCVYG..........TAG...</td>\n",
              "      <td>AFLFSGRREVMADACLQGMMGCVYGTAGGMDSAAAVLGDFCFLAGK...</td>\n",
              "    </tr>\n",
              "    <tr>\n",
              "      <th>1</th>\n",
              "      <td>MoaC</td>\n",
              "      <td>W5NKR5_LEPOC/505-640</td>\n",
              "      <td>PF01967.21</td>\n",
              "      <td>MVDVGGK.PVSRRTAAASATVLLG.EK..........AFWLV.......</td>\n",
              "      <td>MVDVGGKPVSRRTAAASATVLLGEKAFWLVKENQLAKGDALAVAQI...</td>\n",
              "    </tr>\n",
              "    <tr>\n",
              "      <th>2</th>\n",
              "      <td>Methyltransf_25</td>\n",
              "      <td>C0QLU8_DESAH/50-147</td>\n",
              "      <td>PF13649.6</td>\n",
              "      <td>VLDVACGT.C...D..VA...ME..AR.NQ.......T....G......</td>\n",
              "      <td>VLDVACGTCDVAMEARNQTGDAAFIIGTDFSPGMLTLGLQKLKKNR...</td>\n",
              "    </tr>\n",
              "    <tr>\n",
              "      <th>3</th>\n",
              "      <td>EMG1</td>\n",
              "      <td>T1G7Q2_HELRO/22-222</td>\n",
              "      <td>PF03587.14</td>\n",
              "      <td>VVLERASLESVKV..G.................KEYQLLN....CD...</td>\n",
              "      <td>VVLERASLESVKVGKEYQLLNCDRHKGIAKKFKRDISTCRPDITHQ...</td>\n",
              "    </tr>\n",
              "    <tr>\n",
              "      <th>4</th>\n",
              "      <td>Glyco_hydro_30C</td>\n",
              "      <td>C6VRM9_DYAFD/453-540</td>\n",
              "      <td>PF17189.4</td>\n",
              "      <td>GAVRVDVSGGLGTD...............AMVVSSYLN..TDKSLV...</td>\n",
              "      <td>GAVRVDVSGGLGTDAMVVSSYLNTDKSLVTVIVNADNQDRDISLAI...</td>\n",
              "    </tr>\n",
              "    <tr>\n",
              "      <th>...</th>\n",
              "      <td>...</td>\n",
              "      <td>...</td>\n",
              "      <td>...</td>\n",
              "      <td>...</td>\n",
              "      <td>...</td>\n",
              "    </tr>\n",
              "    <tr>\n",
              "      <th>12641</th>\n",
              "      <td>PKHD_C</td>\n",
              "      <td>A0A0U3E6Y4_9BURK/183-225</td>\n",
              "      <td>PF18331.1</td>\n",
              "      <td>DWQRHMLFELDQTIQRLRATLG.DNAETTTLTSHYHNLLRLWAE</td>\n",
              "      <td>DWQRHMLFELDQTIQRLRATLGDNAETTTLTSHYHNLLRLWAE</td>\n",
              "    </tr>\n",
              "    <tr>\n",
              "      <th>12642</th>\n",
              "      <td>DNA_pol3_delta2</td>\n",
              "      <td>D2NPK2_ROTMD/9-170</td>\n",
              "      <td>PF13177.6</td>\n",
              "      <td>IPADKLQQLRTDAAADRPTHAWLFTGATGAPHREAAKIFAAALLCE...</td>\n",
              "      <td>IPADKLQQLRTDAAADRPTHAWLFTGATGAPHREAAKIFAAALLCE...</td>\n",
              "    </tr>\n",
              "    <tr>\n",
              "      <th>12643</th>\n",
              "      <td>SBP_bac_5</td>\n",
              "      <td>Q82ZH6_ENTFA/81-464</td>\n",
              "      <td>PF00496.22</td>\n",
              "      <td>ATVPALAKDV...................K...ISDDGRKYHFTLR...</td>\n",
              "      <td>ATVPALAKDVKISDDGRKYHFTLREGIKWSNGEPITAQDFVYSWKK...</td>\n",
              "    </tr>\n",
              "    <tr>\n",
              "      <th>12644</th>\n",
              "      <td>GATase_3</td>\n",
              "      <td>COBQ_METKA/251-447</td>\n",
              "      <td>PF07685.14</td>\n",
              "      <td>RIAVIRLPRISNFT...DFEPLAMEPDVRVEFVD.PRDNLP........</td>\n",
              "      <td>RIAVIRLPRISNFTDFEPLAMEPDVRVEFVDPRDNLPEDADAVILP...</td>\n",
              "    </tr>\n",
              "    <tr>\n",
              "      <th>12645</th>\n",
              "      <td>Gemini_V2</td>\n",
              "      <td>Q8QUW4_9GEMI/1-78</td>\n",
              "      <td>PF01524.17</td>\n",
              "      <td>MWDPLVNEFPD...SVHG.LRCML..AIKYLQA.LEDTYEPSPLGH...</td>\n",
              "      <td>MWDPLVNEFPDSVHGLRCMLAIKYLQALEDTYEPSPLGHDLVRDLV...</td>\n",
              "    </tr>\n",
              "  </tbody>\n",
              "</table>\n",
              "<p>126171 rows × 5 columns</p>\n",
              "</div>"
            ],
            "text/plain": [
              "             family_id  ...                                           sequence\n",
              "0      GNAT_acetyltran  ...  AFLFSGRREVMADACLQGMMGCVYGTAGGMDSAAAVLGDFCFLAGK...\n",
              "1                 MoaC  ...  MVDVGGKPVSRRTAAASATVLLGEKAFWLVKENQLAKGDALAVAQI...\n",
              "2      Methyltransf_25  ...  VLDVACGTCDVAMEARNQTGDAAFIIGTDFSPGMLTLGLQKLKKNR...\n",
              "3                 EMG1  ...  VVLERASLESVKVGKEYQLLNCDRHKGIAKKFKRDISTCRPDITHQ...\n",
              "4      Glyco_hydro_30C  ...  GAVRVDVSGGLGTDAMVVSSYLNTDKSLVTVIVNADNQDRDISLAI...\n",
              "...                ...  ...                                                ...\n",
              "12641           PKHD_C  ...        DWQRHMLFELDQTIQRLRATLGDNAETTTLTSHYHNLLRLWAE\n",
              "12642  DNA_pol3_delta2  ...  IPADKLQQLRTDAAADRPTHAWLFTGATGAPHREAAKIFAAALLCE...\n",
              "12643        SBP_bac_5  ...  ATVPALAKDVKISDDGRKYHFTLREGIKWSNGEPITAQDFVYSWKK...\n",
              "12644         GATase_3  ...  RIAVIRLPRISNFTDFEPLAMEPDVRVEFVDPRDNLPEDADAVILP...\n",
              "12645        Gemini_V2  ...  MWDPLVNEFPDSVHGLRCMLAIKYLQALEDTYEPSPLGHDLVRDLV...\n",
              "\n",
              "[126171 rows x 5 columns]"
            ]
          },
          "metadata": {
            "tags": []
          },
          "execution_count": 9
        }
      ]
    },
    {
      "cell_type": "code",
      "metadata": {
        "colab": {
          "base_uri": "https://localhost:8080/",
          "height": 541
        },
        "id": "30O3g8LTnpLK",
        "outputId": "4010db4b-7042-44bd-d731-c901636e8f86"
      },
      "source": [
        "data3= read_data('dev')\n",
        "data3"
      ],
      "execution_count": null,
      "outputs": [
        {
          "output_type": "execute_result",
          "data": {
            "text/html": [
              "<div>\n",
              "<style scoped>\n",
              "    .dataframe tbody tr th:only-of-type {\n",
              "        vertical-align: middle;\n",
              "    }\n",
              "\n",
              "    .dataframe tbody tr th {\n",
              "        vertical-align: top;\n",
              "    }\n",
              "\n",
              "    .dataframe thead th {\n",
              "        text-align: right;\n",
              "    }\n",
              "</style>\n",
              "<table border=\"1\" class=\"dataframe\">\n",
              "  <thead>\n",
              "    <tr style=\"text-align: right;\">\n",
              "      <th></th>\n",
              "      <th>family_id</th>\n",
              "      <th>sequence_name</th>\n",
              "      <th>family_accession</th>\n",
              "      <th>aligned_sequence</th>\n",
              "      <th>sequence</th>\n",
              "    </tr>\n",
              "  </thead>\n",
              "  <tbody>\n",
              "    <tr>\n",
              "      <th>0</th>\n",
              "      <td>zf-Tim10_DDP</td>\n",
              "      <td>N1QB11_PSEFD/15-76</td>\n",
              "      <td>PF02953.15</td>\n",
              "      <td>..RMEKKQMKDFMNMYSNLVQRCFNDCV...........TD.F......</td>\n",
              "      <td>RMEKKQMKDFMNMYSNLVQRCFNDCVTDFTSKSLQSKEEGCVMRCV...</td>\n",
              "    </tr>\n",
              "    <tr>\n",
              "      <th>1</th>\n",
              "      <td>DNA_primase_S</td>\n",
              "      <td>A8XA78_CAEBR/105-345</td>\n",
              "      <td>PF01896.19</td>\n",
              "      <td>FDID..LTDYDNIRNCCKEATVCPKCWKFMVLAVKILDFLLDDMFG...</td>\n",
              "      <td>FDIDLTDYDNIRNCCKEATVCPKCWKFMVLAVKILDFLLDDMFGFN...</td>\n",
              "    </tr>\n",
              "    <tr>\n",
              "      <th>2</th>\n",
              "      <td>Col_cuticle_N</td>\n",
              "      <td>A8XBM5_CAEBR/9-56</td>\n",
              "      <td>PF01484.17</td>\n",
              "      <td>ASAAILSGATIVGCLFFAAQIFNEVNSLYDDVMVDMDAFKVKSNIA...</td>\n",
              "      <td>ASAAILSGATIVGCLFFAAQIFNEVNSLYDDVMVDMDAFKVKSNIAWD</td>\n",
              "    </tr>\n",
              "    <tr>\n",
              "      <th>3</th>\n",
              "      <td>GST_C_3</td>\n",
              "      <td>W4XBU3_STRPU/120-207</td>\n",
              "      <td>PF14497.6</td>\n",
              "      <td>KD.................................KLKESLPKTVN...</td>\n",
              "      <td>KDKLKESLPKTVNPILLKFLEKALEDNPNGNGYFVGQDATMVEFVY...</td>\n",
              "    </tr>\n",
              "    <tr>\n",
              "      <th>4</th>\n",
              "      <td>Ada_Zn_binding</td>\n",
              "      <td>E8U5K2_DEIML/9-73</td>\n",
              "      <td>PF02805.16</td>\n",
              "      <td>DRWQAVVQRE...AAQ.DG...LFLYAVRTTGIYCRPSCPSRRPR....</td>\n",
              "      <td>DRWQAVVQREAAQDGLFLYAVRTTGIYCRPSCPSRRPRRENVTFFE...</td>\n",
              "    </tr>\n",
              "    <tr>\n",
              "      <th>...</th>\n",
              "      <td>...</td>\n",
              "      <td>...</td>\n",
              "      <td>...</td>\n",
              "      <td>...</td>\n",
              "      <td>...</td>\n",
              "    </tr>\n",
              "    <tr>\n",
              "      <th>12466</th>\n",
              "      <td>Mac</td>\n",
              "      <td>Q7NJL4_GLOVI/8-59</td>\n",
              "      <td>PF12464.8</td>\n",
              "      <td>KMLAGELYR.A.S.....D..........P....ELVALR.VSA.....</td>\n",
              "      <td>KMLAGELYRASDPELVALRVSARGLLALYNATEPGPGERRQQLLRE...</td>\n",
              "    </tr>\n",
              "    <tr>\n",
              "      <th>12467</th>\n",
              "      <td>DUF2461</td>\n",
              "      <td>H6MR07_GORPV/9-203</td>\n",
              "      <td>PF09365.10</td>\n",
              "      <td>AALDFYDDLE..IDNTKAF...........WTAH...............</td>\n",
              "      <td>AALDFYDDLEIDNTKAFWTAHKATYSSAVAEPMAALTADLAEEFGE...</td>\n",
              "    </tr>\n",
              "    <tr>\n",
              "      <th>12468</th>\n",
              "      <td>CutA1</td>\n",
              "      <td>B3LDD6_PLAKH/62-160</td>\n",
              "      <td>PF03091.15</td>\n",
              "      <td>IAVYVTAPGTDV.AEKI........SNVL..LEDKLASCVNIIPG....</td>\n",
              "      <td>IAVYVTAPGTDVAEKISNVLLEDKLASCVNIIPGVLSLYHWKGEIA...</td>\n",
              "    </tr>\n",
              "    <tr>\n",
              "      <th>12469</th>\n",
              "      <td>LacAB_rpiB</td>\n",
              "      <td>R5QL61_9FIRM/2-140</td>\n",
              "      <td>PF02502.18</td>\n",
              "      <td>IAIGSDHGGFDLKEAV....IA.HL.......KE...K.GY...E....</td>\n",
              "      <td>IAIGSDHGGFDLKEAVIAHLKEKGYEVKDVGCYDKSSCDYPVYGKA...</td>\n",
              "    </tr>\n",
              "    <tr>\n",
              "      <th>12470</th>\n",
              "      <td>S-layer</td>\n",
              "      <td>L0L1Y2_METHD/476-730</td>\n",
              "      <td>PF07752.11</td>\n",
              "      <td>DADANQSLDYT....WTAL.....SYSGFYYDL.D...TGEGSETM...</td>\n",
              "      <td>DADANQSLDYTWTALSYSGFYYDLDTGEGSETMTVHLDSRSDRSID...</td>\n",
              "    </tr>\n",
              "  </tbody>\n",
              "</table>\n",
              "<p>126171 rows × 5 columns</p>\n",
              "</div>"
            ],
            "text/plain": [
              "            family_id  ...                                           sequence\n",
              "0        zf-Tim10_DDP  ...  RMEKKQMKDFMNMYSNLVQRCFNDCVTDFTSKSLQSKEEGCVMRCV...\n",
              "1       DNA_primase_S  ...  FDIDLTDYDNIRNCCKEATVCPKCWKFMVLAVKILDFLLDDMFGFN...\n",
              "2       Col_cuticle_N  ...   ASAAILSGATIVGCLFFAAQIFNEVNSLYDDVMVDMDAFKVKSNIAWD\n",
              "3             GST_C_3  ...  KDKLKESLPKTVNPILLKFLEKALEDNPNGNGYFVGQDATMVEFVY...\n",
              "4      Ada_Zn_binding  ...  DRWQAVVQREAAQDGLFLYAVRTTGIYCRPSCPSRRPRRENVTFFE...\n",
              "...               ...  ...                                                ...\n",
              "12466             Mac  ...  KMLAGELYRASDPELVALRVSARGLLALYNATEPGPGERRQQLLRE...\n",
              "12467         DUF2461  ...  AALDFYDDLEIDNTKAFWTAHKATYSSAVAEPMAALTADLAEEFGE...\n",
              "12468           CutA1  ...  IAVYVTAPGTDVAEKISNVLLEDKLASCVNIIPGVLSLYHWKGEIA...\n",
              "12469      LacAB_rpiB  ...  IAIGSDHGGFDLKEAVIAHLKEKGYEVKDVGCYDKSSCDYPVYGKA...\n",
              "12470         S-layer  ...  DADANQSLDYTWTALSYSGFYYDLDTGEGSETMTVHLDSRSDRSID...\n",
              "\n",
              "[126171 rows x 5 columns]"
            ]
          },
          "metadata": {
            "tags": []
          },
          "execution_count": 10
        }
      ]
    },
    {
      "cell_type": "code",
      "metadata": {
        "colab": {
          "base_uri": "https://localhost:8080/"
        },
        "id": "k-L5mo3onttd",
        "outputId": "a10d7bbb-bfbf-4229-e04e-edcd24e554e1"
      },
      "source": [
        "data1.isnull().sum()"
      ],
      "execution_count": null,
      "outputs": [
        {
          "output_type": "execute_result",
          "data": {
            "text/plain": [
              "family_id           0\n",
              "sequence_name       0\n",
              "family_accession    0\n",
              "aligned_sequence    0\n",
              "sequence            0\n",
              "dtype: int64"
            ]
          },
          "metadata": {
            "tags": []
          },
          "execution_count": 11
        }
      ]
    },
    {
      "cell_type": "code",
      "metadata": {
        "colab": {
          "base_uri": "https://localhost:8080/"
        },
        "id": "Rhnwd99ln3X_",
        "outputId": "a17d1c36-5bf5-45f2-cc8f-a207069420af"
      },
      "source": [
        "data2.isnull().sum()"
      ],
      "execution_count": null,
      "outputs": [
        {
          "output_type": "execute_result",
          "data": {
            "text/plain": [
              "family_id           0\n",
              "sequence_name       0\n",
              "family_accession    0\n",
              "aligned_sequence    0\n",
              "sequence            0\n",
              "dtype: int64"
            ]
          },
          "metadata": {
            "tags": []
          },
          "execution_count": 12
        }
      ]
    },
    {
      "cell_type": "code",
      "metadata": {
        "colab": {
          "base_uri": "https://localhost:8080/"
        },
        "id": "FI8pQW_Sn581",
        "outputId": "ab9c9e63-227b-45ae-9543-6f0a5767612e"
      },
      "source": [
        "data3.isnull().sum()"
      ],
      "execution_count": null,
      "outputs": [
        {
          "output_type": "execute_result",
          "data": {
            "text/plain": [
              "family_id           0\n",
              "sequence_name       0\n",
              "family_accession    0\n",
              "aligned_sequence    0\n",
              "sequence            0\n",
              "dtype: int64"
            ]
          },
          "metadata": {
            "tags": []
          },
          "execution_count": 13
        }
      ]
    },
    {
      "cell_type": "markdown",
      "metadata": {
        "id": "0w_uTAtb7Chv"
      },
      "source": [
        "No data are missing so we can keep them.\n",
        "Lets analyze the data."
      ]
    },
    {
      "cell_type": "code",
      "metadata": {
        "colab": {
          "base_uri": "https://localhost:8080/"
        },
        "id": "d5nR-H3cn7rQ",
        "outputId": "2713894c-fd80-472f-b813-16cf2a79579c"
      },
      "source": [
        "data2.groupby('family_accession').size().sort_values(ascending=False)"
      ],
      "execution_count": null,
      "outputs": [
        {
          "output_type": "execute_result",
          "data": {
            "text/plain": [
              "family_accession\n",
              "PF13649.6     454\n",
              "PF00560.33    240\n",
              "PF13508.7     219\n",
              "PF06580.13    192\n",
              "PF02397.16    190\n",
              "             ... \n",
              "PF12596.8       1\n",
              "PF16318.5       1\n",
              "PF12595.8       1\n",
              "PF14948.6       1\n",
              "PF05111.12      1\n",
              "Length: 13071, dtype: int64"
            ]
          },
          "metadata": {
            "tags": []
          },
          "execution_count": 14
        }
      ]
    },
    {
      "cell_type": "code",
      "metadata": {
        "colab": {
          "base_uri": "https://localhost:8080/"
        },
        "id": "HSg29GZun_i3",
        "outputId": "bacc5ae1-f2c4-45ed-f962-879d9a5427d3"
      },
      "source": [
        "data2.groupby('family_id').size().sort_values(ascending=False)"
      ],
      "execution_count": null,
      "outputs": [
        {
          "output_type": "execute_result",
          "data": {
            "text/plain": [
              "family_id\n",
              "Methyltransf_25    454\n",
              "LRR_1              240\n",
              "Acetyltransf_7     219\n",
              "His_kinase         192\n",
              "Bac_transf         190\n",
              "                  ... \n",
              "DUF5578              1\n",
              "SRRM_C               1\n",
              "SRX                  1\n",
              "SSDP                 1\n",
              "CodY                 1\n",
              "Length: 13071, dtype: int64"
            ]
          },
          "metadata": {
            "tags": []
          },
          "execution_count": 15
        }
      ]
    },
    {
      "cell_type": "code",
      "metadata": {
        "id": "E8crdEuOBTtV",
        "colab": {
          "base_uri": "https://localhost:8080/"
        },
        "outputId": "c5f5b02c-47e5-455a-98a6-0d48a6448d8d"
      },
      "source": [
        "data1.groupby('family_accession').size().sort_values(ascending=False)"
      ],
      "execution_count": null,
      "outputs": [
        {
          "output_type": "execute_result",
          "data": {
            "text/plain": [
              "family_accession\n",
              "PF13649.6     3637\n",
              "PF00560.33    1927\n",
              "PF13508.7     1761\n",
              "PF06580.13    1537\n",
              "PF02397.16    1528\n",
              "              ... \n",
              "PF17601.2        1\n",
              "PF17600.2        1\n",
              "PF11570.8        1\n",
              "PF17599.2        1\n",
              "PF05550.11       1\n",
              "Length: 17929, dtype: int64"
            ]
          },
          "metadata": {
            "tags": []
          },
          "execution_count": 16
        }
      ]
    },
    {
      "cell_type": "code",
      "metadata": {
        "colab": {
          "base_uri": "https://localhost:8080/"
        },
        "id": "54ITzqydBYlB",
        "outputId": "a62a8f2d-e946-4ba7-de63-2074d1ae5f2c"
      },
      "source": [
        "data3.groupby('family_accession').size().sort_values(ascending=False)"
      ],
      "execution_count": null,
      "outputs": [
        {
          "output_type": "execute_result",
          "data": {
            "text/plain": [
              "family_accession\n",
              "PF13649.6     454\n",
              "PF00560.33    240\n",
              "PF13508.7     219\n",
              "PF06580.13    192\n",
              "PF02397.16    190\n",
              "             ... \n",
              "PF12596.8       1\n",
              "PF16318.5       1\n",
              "PF12595.8       1\n",
              "PF14948.6       1\n",
              "PF05111.12      1\n",
              "Length: 13071, dtype: int64"
            ]
          },
          "metadata": {
            "tags": []
          },
          "execution_count": 18
        }
      ]
    },
    {
      "cell_type": "markdown",
      "metadata": {
        "id": "npq8q6_XoHnx"
      },
      "source": [
        " Methyltransf_25 is the most common family\n",
        "\n",
        " **Protein classes and sequences**\n",
        "'family_accession' can be used to predict the class of protein.\n",
        "We can use them as labels for our multiclass classification of protein.\n",
        "For the prediction, we will certainly 'sequence'as input.\n",
        "\n",
        "*Aligned sequence is also a very important part of our data. It gives alot of informations about the structure of our protein, mutations,understanding the mechanisms of action of proteins, identification of similarities between the sequence of a first protein whose mechanism of action is known and that of a second protein whose mechanism of action is not known.\n",
        "\n",
        "*We will use 'sequence' as input and not the 'aligned sequence' because computer power and available resources do not allow it.\n",
        "\n",
        "*The number of classes 'Family_accession' is very high in training set\n",
        "17929 and also in validation and test set (Dev and Test) 13071. The classes are also unbalanced. Some classes have only one 'family id' (protein) e.g(PF17601.2)\n",
        "To avoid this problem, we can neglect these classes. Unbalanced data can distort our results. Therefore, we will select the number of classes according to the observations of some plots and the computer power.\n",
        "\n",
        "\n",
        "\n",
        "\n",
        "\n"
      ]
    },
    {
      "cell_type": "code",
      "metadata": {
        "colab": {
          "base_uri": "https://localhost:8080/"
        },
        "id": "LruZ5PDqoUqa",
        "outputId": "b0da1de4-a6e3-444b-d5d0-bea82c276ec5"
      },
      "source": [
        "print(\"Number of unique classes in train set :\", len(np.unique(data1.family_accession)))\n",
        "print(\"Number of unique classes in dev set :\", len(np.unique(data3.family_accession)))\n",
        "print(\"Number of unique classes in test set :\", len(np.unique(data2.family_accession)))\n"
      ],
      "execution_count": null,
      "outputs": [
        {
          "output_type": "stream",
          "text": [
            "Number of unique classes in train set : 17929\n",
            "Number of unique classes in dev set : 13071\n",
            "Number of unique classes in test set : 13071\n"
          ],
          "name": "stdout"
        }
      ]
    },
    {
      "cell_type": "code",
      "metadata": {
        "colab": {
          "base_uri": "https://localhost:8080/",
          "height": 689
        },
        "id": "C3PP87pHoc27",
        "outputId": "7f8d55a1-cbd6-45f6-c875-588a53bd35c6"
      },
      "source": [
        "plt.figure(figsize=(20,10))\n",
        "plt.subplot(1,3,1)\n",
        "plt.title('Train')\n",
        "data1.groupby('family_accession').size().sort_values(ascending=False).head(20).plot(kind='bar')\n",
        "plt.subplot(1,3,2)\n",
        "plt.title('dev')\n",
        "data3.groupby('family_accession').size().sort_values(ascending=False).head(20).plot(kind='bar',color='g')\n",
        "plt.subplot(1,3,3)\n",
        "plt.title('Test')\n",
        "data2.groupby('family_accession').size().sort_values(ascending=False).head(20).plot(kind='bar',color='red')\n",
        "plt.show()\n",
        "print('Plots of the most frequent family accessions and their counts')\n"
      ],
      "execution_count": null,
      "outputs": [
        {
          "output_type": "display_data",
          "data": {
            "image/png": "[encoded data removed]",
            "text/plain": [
              "<Figure size 1440x720 with 3 Axes>"
            ]
          },
          "metadata": {
            "tags": [],
            "needs_background": "light"
          }
        },
        {
          "output_type": "stream",
          "text": [
            "Plots of the most frequent family accessions and their counts\n"
          ],
          "name": "stdout"
        }
      ]
    },
    {
      "cell_type": "markdown",
      "metadata": {
        "id": "qAtEn4X7MD9_"
      },
      "source": [
        "**Classes**\n",
        "Most of classes are les than 1000."
      ]
    },
    {
      "cell_type": "code",
      "metadata": {
        "colab": {
          "base_uri": "https://localhost:8080/",
          "height": 715
        },
        "id": "M9I3c9Tsx--r",
        "outputId": "e57b4ee2-342e-4c0f-b6fd-8837af0f8f0c"
      },
      "source": [
        "plt.figure(figsize=(20,10))\n",
        "plt.subplot(1,3,1)\n",
        "plt.title('Train')\n",
        "data1.groupby('family_id').size().sort_values(ascending=False).head(20).plot(kind='bar')\n",
        "plt.subplot(1,3,2)\n",
        "plt.title('dev')\n",
        "data3.groupby('family_id').size().sort_values(ascending=False).head(20).plot(kind='bar',color='g')\n",
        "plt.subplot(1,3,3)\n",
        "plt.title('Test')\n",
        "data2.groupby('family_id').size().sort_values(ascending=False).head(20).plot(kind='bar',color='red')\n",
        "plt.show()\n",
        "print('Plots of the most frequent family id and their counts')\n"
      ],
      "execution_count": null,
      "outputs": [
        {
          "output_type": "display_data",
          "data": {
            "image/png": "[encoded data removed]",
            "text/plain": [
              "<Figure size 1440x720 with 3 Axes>"
            ]
          },
          "metadata": {
            "tags": [],
            "needs_background": "light"
          }
        },
        {
          "output_type": "stream",
          "text": [
            "Plots of the most frequent family id and their counts\n"
          ],
          "name": "stdout"
        }
      ]
    },
    {
      "cell_type": "code",
      "metadata": {
        "id": "sWRAXLmapfjF"
      },
      "source": [
        " #Length of sequence in train data.\n",
        "data1['characters_count_inseq']= data1['sequence'].apply(lambda x: len(x))\n",
        "data2['characters_count_inseq']= data2['sequence'].apply(lambda x: len(x))\n",
        "data3['characters_count_inseq']= data3['sequence'].apply(lambda x: len(x))"
      ],
      "execution_count": null,
      "outputs": []
    },
    {
      "cell_type": "code",
      "metadata": {
        "id": "UBufUI1jpk5T"
      },
      "source": [
        "def plot_seq_count(df, data_name):\n",
        "  sns.distplot(df['characters_count_inseq'].values, kde=True, color=\"g\")\n",
        "  plt.title(f'Sequence char count: {data_name}')\n",
        "  plt.grid(True)"
      ],
      "execution_count": null,
      "outputs": []
    },
    {
      "cell_type": "code",
      "metadata": {
        "colab": {
          "base_uri": "https://localhost:8080/",
          "height": 391
        },
        "id": "pBNLASkMptfR",
        "outputId": "1dc4efed-c763-4e10-bb9a-600bdf7936aa"
      },
      "source": [
        "plt.subplot(1, 3, 1)\n",
        "plot_seq_count(data1, 'Train')\n",
        "\n",
        "plt.subplot(1, 3, 2)\n",
        "plot_seq_count(data2, 'Test')\n",
        "\n",
        "plt.subplot(1, 3, 3)\n",
        "plot_seq_count(data3, 'Dev')\n",
        "\n",
        "plt.subplots_adjust(right=3.0)\n",
        "plt.show()"
      ],
      "execution_count": null,
      "outputs": [
        {
          "output_type": "stream",
          "text": [
            "/usr/local/lib/python3.7/dist-packages/seaborn/distributions.py:2557: FutureWarning: `distplot` is a deprecated function and will be removed in a future version. Please adapt your code to use either `displot` (a figure-level function with similar flexibility) or `histplot` (an axes-level function for histograms).\n",
            "  warnings.warn(msg, FutureWarning)\n",
            "/usr/local/lib/python3.7/dist-packages/seaborn/distributions.py:2557: FutureWarning: `distplot` is a deprecated function and will be removed in a future version. Please adapt your code to use either `displot` (a figure-level function with similar flexibility) or `histplot` (an axes-level function for histograms).\n",
            "  warnings.warn(msg, FutureWarning)\n",
            "/usr/local/lib/python3.7/dist-packages/seaborn/distributions.py:2557: FutureWarning: `distplot` is a deprecated function and will be removed in a future version. Please adapt your code to use either `displot` (a figure-level function with similar flexibility) or `histplot` (an axes-level function for histograms).\n",
            "  warnings.warn(msg, FutureWarning)\n"
          ],
          "name": "stderr"
        },
        {
          "output_type": "display_data",
          "data": {
            "image/png": "[encoded data removed]",
            "text/plain": [
              "<Figure size 432x288 with 3 Axes>"
            ]
          },
          "metadata": {
            "tags": [],
            "needs_background": "light"
          }
        }
      ]
    },
    {
      "cell_type": "markdown",
      "metadata": {
        "id": "FpXRp1aWFe5T"
      },
      "source": [
        "**Sequences desnity**\n",
        "The length of sequences in the datasets do not exceed 300 amino acids.\n",
        "The length of the sequences (our input) should be  between 0 and 300. \n",
        "Accordin to this plot, we will fix the sequence_length to 100.\n",
        "*If we had the ressources we can use the length of 250.\n",
        "\n",
        "* These observations are the same for the 3 datasets (Train, Test, Dev)"
      ]
    },
    {
      "cell_type": "code",
      "metadata": {
        "id": "evKDaA_kpy8h"
      },
      "source": [
        "from collections import Counter\n",
        "def aminoacid_frequency(df, name):\n",
        "    df = df.apply(lambda x: \" \".join(x))\n",
        "    aminoacid = []\n",
        "    for i in df: # concatination of all codes\n",
        "        aminoacid.extend(i)\n",
        "    aminoacid_dict= Counter(aminoacid)\n",
        "    aminoacid_dict.pop(' ') # removing white space\n",
        "    print(f'Aminoacid: {name}')\n",
        "    print(f'Total unique aminoacid: {len(aminoacid_dict.keys())}')\n",
        "\n",
        "    df = pd.DataFrame({'Aminoacid': list(aminoacid_dict.keys()), 'Freq': list(aminoacid_dict.values())})\n",
        "    return df.sort_values('Freq', ascending=False).reset_index()[['Aminoacid', 'Freq']]"
      ],
      "execution_count": null,
      "outputs": []
    },
    {
      "cell_type": "code",
      "metadata": {
        "id": "tCQqQf94qlvY",
        "colab": {
          "base_uri": "https://localhost:8080/",
          "height": 858
        },
        "outputId": "aefabd0d-0105-4797-f437-594be33b7f18"
      },
      "source": [
        "train_aminoacid_freq = aminoacid_frequency(data1['sequence'], 'Train')\n",
        "train_aminoacid_freq"
      ],
      "execution_count": null,
      "outputs": [
        {
          "output_type": "stream",
          "text": [
            "Aminoacid: Train\n",
            "Total unique aminoacid: 25\n"
          ],
          "name": "stdout"
        },
        {
          "output_type": "execute_result",
          "data": {
            "text/html": [
              "<div>\n",
              "<style scoped>\n",
              "    .dataframe tbody tr th:only-of-type {\n",
              "        vertical-align: middle;\n",
              "    }\n",
              "\n",
              "    .dataframe tbody tr th {\n",
              "        vertical-align: top;\n",
              "    }\n",
              "\n",
              "    .dataframe thead th {\n",
              "        text-align: right;\n",
              "    }\n",
              "</style>\n",
              "<table border=\"1\" class=\"dataframe\">\n",
              "  <thead>\n",
              "    <tr style=\"text-align: right;\">\n",
              "      <th></th>\n",
              "      <th>Aminoacid</th>\n",
              "      <th>Freq</th>\n",
              "    </tr>\n",
              "  </thead>\n",
              "  <tbody>\n",
              "    <tr>\n",
              "      <th>0</th>\n",
              "      <td>L</td>\n",
              "      <td>17062816</td>\n",
              "    </tr>\n",
              "    <tr>\n",
              "      <th>1</th>\n",
              "      <td>A</td>\n",
              "      <td>14384873</td>\n",
              "    </tr>\n",
              "    <tr>\n",
              "      <th>2</th>\n",
              "      <td>V</td>\n",
              "      <td>11913147</td>\n",
              "    </tr>\n",
              "    <tr>\n",
              "      <th>3</th>\n",
              "      <td>G</td>\n",
              "      <td>11845579</td>\n",
              "    </tr>\n",
              "    <tr>\n",
              "      <th>4</th>\n",
              "      <td>E</td>\n",
              "      <td>10859966</td>\n",
              "    </tr>\n",
              "    <tr>\n",
              "      <th>5</th>\n",
              "      <td>S</td>\n",
              "      <td>10597822</td>\n",
              "    </tr>\n",
              "    <tr>\n",
              "      <th>6</th>\n",
              "      <td>I</td>\n",
              "      <td>10234455</td>\n",
              "    </tr>\n",
              "    <tr>\n",
              "      <th>7</th>\n",
              "      <td>R</td>\n",
              "      <td>9406165</td>\n",
              "    </tr>\n",
              "    <tr>\n",
              "      <th>8</th>\n",
              "      <td>D</td>\n",
              "      <td>9371097</td>\n",
              "    </tr>\n",
              "    <tr>\n",
              "      <th>9</th>\n",
              "      <td>K</td>\n",
              "      <td>9127832</td>\n",
              "    </tr>\n",
              "    <tr>\n",
              "      <th>10</th>\n",
              "      <td>T</td>\n",
              "      <td>9034110</td>\n",
              "    </tr>\n",
              "    <tr>\n",
              "      <th>11</th>\n",
              "      <td>P</td>\n",
              "      <td>7441084</td>\n",
              "    </tr>\n",
              "    <tr>\n",
              "      <th>12</th>\n",
              "      <td>F</td>\n",
              "      <td>7130287</td>\n",
              "    </tr>\n",
              "    <tr>\n",
              "      <th>13</th>\n",
              "      <td>N</td>\n",
              "      <td>6616976</td>\n",
              "    </tr>\n",
              "    <tr>\n",
              "      <th>14</th>\n",
              "      <td>Q</td>\n",
              "      <td>6250389</td>\n",
              "    </tr>\n",
              "    <tr>\n",
              "      <th>15</th>\n",
              "      <td>Y</td>\n",
              "      <td>5556597</td>\n",
              "    </tr>\n",
              "    <tr>\n",
              "      <th>16</th>\n",
              "      <td>M</td>\n",
              "      <td>3708948</td>\n",
              "    </tr>\n",
              "    <tr>\n",
              "      <th>17</th>\n",
              "      <td>H</td>\n",
              "      <td>3704587</td>\n",
              "    </tr>\n",
              "    <tr>\n",
              "      <th>18</th>\n",
              "      <td>C</td>\n",
              "      <td>2316115</td>\n",
              "    </tr>\n",
              "    <tr>\n",
              "      <th>19</th>\n",
              "      <td>W</td>\n",
              "      <td>2293257</td>\n",
              "    </tr>\n",
              "    <tr>\n",
              "      <th>20</th>\n",
              "      <td>X</td>\n",
              "      <td>1505</td>\n",
              "    </tr>\n",
              "    <tr>\n",
              "      <th>21</th>\n",
              "      <td>U</td>\n",
              "      <td>119</td>\n",
              "    </tr>\n",
              "    <tr>\n",
              "      <th>22</th>\n",
              "      <td>B</td>\n",
              "      <td>33</td>\n",
              "    </tr>\n",
              "    <tr>\n",
              "      <th>23</th>\n",
              "      <td>O</td>\n",
              "      <td>18</td>\n",
              "    </tr>\n",
              "    <tr>\n",
              "      <th>24</th>\n",
              "      <td>Z</td>\n",
              "      <td>8</td>\n",
              "    </tr>\n",
              "  </tbody>\n",
              "</table>\n",
              "</div>"
            ],
            "text/plain": [
              "   Aminoacid      Freq\n",
              "0          L  17062816\n",
              "1          A  14384873\n",
              "2          V  11913147\n",
              "3          G  11845579\n",
              "4          E  10859966\n",
              "5          S  10597822\n",
              "6          I  10234455\n",
              "7          R   9406165\n",
              "8          D   9371097\n",
              "9          K   9127832\n",
              "10         T   9034110\n",
              "11         P   7441084\n",
              "12         F   7130287\n",
              "13         N   6616976\n",
              "14         Q   6250389\n",
              "15         Y   5556597\n",
              "16         M   3708948\n",
              "17         H   3704587\n",
              "18         C   2316115\n",
              "19         W   2293257\n",
              "20         X      1505\n",
              "21         U       119\n",
              "22         B        33\n",
              "23         O        18\n",
              "24         Z         8"
            ]
          },
          "metadata": {
            "tags": []
          },
          "execution_count": 22
        }
      ]
    },
    {
      "cell_type": "code",
      "metadata": {
        "colab": {
          "base_uri": "https://localhost:8080/",
          "height": 827
        },
        "id": "Jtd8Sc4Zqt0X",
        "outputId": "adc668ed-5126-42d0-f394-37e2caea5088"
      },
      "source": [
        "test_aminoacid_freq = aminoacid_frequency(data2['sequence'], 'Test')\n",
        "test_aminoacid_freq"
      ],
      "execution_count": null,
      "outputs": [
        {
          "output_type": "stream",
          "text": [
            "Aminoacid: Test\n",
            "Total unique aminoacid: 24\n"
          ],
          "name": "stdout"
        },
        {
          "output_type": "execute_result",
          "data": {
            "text/html": [
              "<div>\n",
              "<style scoped>\n",
              "    .dataframe tbody tr th:only-of-type {\n",
              "        vertical-align: middle;\n",
              "    }\n",
              "\n",
              "    .dataframe tbody tr th {\n",
              "        vertical-align: top;\n",
              "    }\n",
              "\n",
              "    .dataframe thead th {\n",
              "        text-align: right;\n",
              "    }\n",
              "</style>\n",
              "<table border=\"1\" class=\"dataframe\">\n",
              "  <thead>\n",
              "    <tr style=\"text-align: right;\">\n",
              "      <th></th>\n",
              "      <th>Aminoacid</th>\n",
              "      <th>Freq</th>\n",
              "    </tr>\n",
              "  </thead>\n",
              "  <tbody>\n",
              "    <tr>\n",
              "      <th>0</th>\n",
              "      <td>L</td>\n",
              "      <td>1967046</td>\n",
              "    </tr>\n",
              "    <tr>\n",
              "      <th>1</th>\n",
              "      <td>A</td>\n",
              "      <td>1668137</td>\n",
              "    </tr>\n",
              "    <tr>\n",
              "      <th>2</th>\n",
              "      <td>V</td>\n",
              "      <td>1380962</td>\n",
              "    </tr>\n",
              "    <tr>\n",
              "      <th>3</th>\n",
              "      <td>G</td>\n",
              "      <td>1375349</td>\n",
              "    </tr>\n",
              "    <tr>\n",
              "      <th>4</th>\n",
              "      <td>E</td>\n",
              "      <td>1251000</td>\n",
              "    </tr>\n",
              "    <tr>\n",
              "      <th>5</th>\n",
              "      <td>S</td>\n",
              "      <td>1210559</td>\n",
              "    </tr>\n",
              "    <tr>\n",
              "      <th>6</th>\n",
              "      <td>I</td>\n",
              "      <td>1184239</td>\n",
              "    </tr>\n",
              "    <tr>\n",
              "      <th>7</th>\n",
              "      <td>R</td>\n",
              "      <td>1085786</td>\n",
              "    </tr>\n",
              "    <tr>\n",
              "      <th>8</th>\n",
              "      <td>D</td>\n",
              "      <td>1078379</td>\n",
              "    </tr>\n",
              "    <tr>\n",
              "      <th>9</th>\n",
              "      <td>K</td>\n",
              "      <td>1045957</td>\n",
              "    </tr>\n",
              "    <tr>\n",
              "      <th>10</th>\n",
              "      <td>T</td>\n",
              "      <td>1038682</td>\n",
              "    </tr>\n",
              "    <tr>\n",
              "      <th>11</th>\n",
              "      <td>P</td>\n",
              "      <td>851574</td>\n",
              "    </tr>\n",
              "    <tr>\n",
              "      <th>12</th>\n",
              "      <td>F</td>\n",
              "      <td>822738</td>\n",
              "    </tr>\n",
              "    <tr>\n",
              "      <th>13</th>\n",
              "      <td>N</td>\n",
              "      <td>756549</td>\n",
              "    </tr>\n",
              "    <tr>\n",
              "      <th>14</th>\n",
              "      <td>Q</td>\n",
              "      <td>712317</td>\n",
              "    </tr>\n",
              "    <tr>\n",
              "      <th>15</th>\n",
              "      <td>Y</td>\n",
              "      <td>639218</td>\n",
              "    </tr>\n",
              "    <tr>\n",
              "      <th>16</th>\n",
              "      <td>M</td>\n",
              "      <td>428892</td>\n",
              "    </tr>\n",
              "    <tr>\n",
              "      <th>17</th>\n",
              "      <td>H</td>\n",
              "      <td>425862</td>\n",
              "    </tr>\n",
              "    <tr>\n",
              "      <th>18</th>\n",
              "      <td>C</td>\n",
              "      <td>264168</td>\n",
              "    </tr>\n",
              "    <tr>\n",
              "      <th>19</th>\n",
              "      <td>W</td>\n",
              "      <td>263755</td>\n",
              "    </tr>\n",
              "    <tr>\n",
              "      <th>20</th>\n",
              "      <td>X</td>\n",
              "      <td>198</td>\n",
              "    </tr>\n",
              "    <tr>\n",
              "      <th>21</th>\n",
              "      <td>U</td>\n",
              "      <td>12</td>\n",
              "    </tr>\n",
              "    <tr>\n",
              "      <th>22</th>\n",
              "      <td>Z</td>\n",
              "      <td>4</td>\n",
              "    </tr>\n",
              "    <tr>\n",
              "      <th>23</th>\n",
              "      <td>B</td>\n",
              "      <td>2</td>\n",
              "    </tr>\n",
              "  </tbody>\n",
              "</table>\n",
              "</div>"
            ],
            "text/plain": [
              "   Aminoacid     Freq\n",
              "0          L  1967046\n",
              "1          A  1668137\n",
              "2          V  1380962\n",
              "3          G  1375349\n",
              "4          E  1251000\n",
              "5          S  1210559\n",
              "6          I  1184239\n",
              "7          R  1085786\n",
              "8          D  1078379\n",
              "9          K  1045957\n",
              "10         T  1038682\n",
              "11         P   851574\n",
              "12         F   822738\n",
              "13         N   756549\n",
              "14         Q   712317\n",
              "15         Y   639218\n",
              "16         M   428892\n",
              "17         H   425862\n",
              "18         C   264168\n",
              "19         W   263755\n",
              "20         X      198\n",
              "21         U       12\n",
              "22         Z        4\n",
              "23         B        2"
            ]
          },
          "metadata": {
            "tags": []
          },
          "execution_count": 23
        }
      ]
    },
    {
      "cell_type": "code",
      "metadata": {
        "colab": {
          "base_uri": "https://localhost:8080/",
          "height": 765
        },
        "id": "7R_hDwvJxRcG",
        "outputId": "648d4553-e5db-45b4-a17e-91450c890c77"
      },
      "source": [
        "dev_aminoacid_freq = aminoacid_frequency(data3['sequence'], 'Dev')\n",
        "dev_aminoacid_freq"
      ],
      "execution_count": null,
      "outputs": [
        {
          "output_type": "stream",
          "text": [
            "Aminoacid: Dev\n",
            "Total unique aminoacid: 22\n"
          ],
          "name": "stdout"
        },
        {
          "output_type": "execute_result",
          "data": {
            "text/html": [
              "<div>\n",
              "<style scoped>\n",
              "    .dataframe tbody tr th:only-of-type {\n",
              "        vertical-align: middle;\n",
              "    }\n",
              "\n",
              "    .dataframe tbody tr th {\n",
              "        vertical-align: top;\n",
              "    }\n",
              "\n",
              "    .dataframe thead th {\n",
              "        text-align: right;\n",
              "    }\n",
              "</style>\n",
              "<table border=\"1\" class=\"dataframe\">\n",
              "  <thead>\n",
              "    <tr style=\"text-align: right;\">\n",
              "      <th></th>\n",
              "      <th>Aminoacid</th>\n",
              "      <th>Freq</th>\n",
              "    </tr>\n",
              "  </thead>\n",
              "  <tbody>\n",
              "    <tr>\n",
              "      <th>0</th>\n",
              "      <td>L</td>\n",
              "      <td>1967025</td>\n",
              "    </tr>\n",
              "    <tr>\n",
              "      <th>1</th>\n",
              "      <td>A</td>\n",
              "      <td>1667703</td>\n",
              "    </tr>\n",
              "    <tr>\n",
              "      <th>2</th>\n",
              "      <td>V</td>\n",
              "      <td>1382128</td>\n",
              "    </tr>\n",
              "    <tr>\n",
              "      <th>3</th>\n",
              "      <td>G</td>\n",
              "      <td>1376124</td>\n",
              "    </tr>\n",
              "    <tr>\n",
              "      <th>4</th>\n",
              "      <td>E</td>\n",
              "      <td>1249356</td>\n",
              "    </tr>\n",
              "    <tr>\n",
              "      <th>5</th>\n",
              "      <td>S</td>\n",
              "      <td>1210750</td>\n",
              "    </tr>\n",
              "    <tr>\n",
              "      <th>6</th>\n",
              "      <td>I</td>\n",
              "      <td>1185722</td>\n",
              "    </tr>\n",
              "    <tr>\n",
              "      <th>7</th>\n",
              "      <td>R</td>\n",
              "      <td>1085950</td>\n",
              "    </tr>\n",
              "    <tr>\n",
              "      <th>8</th>\n",
              "      <td>D</td>\n",
              "      <td>1080572</td>\n",
              "    </tr>\n",
              "    <tr>\n",
              "      <th>9</th>\n",
              "      <td>K</td>\n",
              "      <td>1047638</td>\n",
              "    </tr>\n",
              "    <tr>\n",
              "      <th>10</th>\n",
              "      <td>T</td>\n",
              "      <td>1039590</td>\n",
              "    </tr>\n",
              "    <tr>\n",
              "      <th>11</th>\n",
              "      <td>P</td>\n",
              "      <td>850937</td>\n",
              "    </tr>\n",
              "    <tr>\n",
              "      <th>12</th>\n",
              "      <td>F</td>\n",
              "      <td>820778</td>\n",
              "    </tr>\n",
              "    <tr>\n",
              "      <th>13</th>\n",
              "      <td>N</td>\n",
              "      <td>757315</td>\n",
              "    </tr>\n",
              "    <tr>\n",
              "      <th>14</th>\n",
              "      <td>Q</td>\n",
              "      <td>714424</td>\n",
              "    </tr>\n",
              "    <tr>\n",
              "      <th>15</th>\n",
              "      <td>Y</td>\n",
              "      <td>639252</td>\n",
              "    </tr>\n",
              "    <tr>\n",
              "      <th>16</th>\n",
              "      <td>M</td>\n",
              "      <td>428275</td>\n",
              "    </tr>\n",
              "    <tr>\n",
              "      <th>17</th>\n",
              "      <td>H</td>\n",
              "      <td>426922</td>\n",
              "    </tr>\n",
              "    <tr>\n",
              "      <th>18</th>\n",
              "      <td>C</td>\n",
              "      <td>264434</td>\n",
              "    </tr>\n",
              "    <tr>\n",
              "      <th>19</th>\n",
              "      <td>W</td>\n",
              "      <td>263317</td>\n",
              "    </tr>\n",
              "    <tr>\n",
              "      <th>20</th>\n",
              "      <td>X</td>\n",
              "      <td>146</td>\n",
              "    </tr>\n",
              "    <tr>\n",
              "      <th>21</th>\n",
              "      <td>U</td>\n",
              "      <td>12</td>\n",
              "    </tr>\n",
              "  </tbody>\n",
              "</table>\n",
              "</div>"
            ],
            "text/plain": [
              "   Aminoacid     Freq\n",
              "0          L  1967025\n",
              "1          A  1667703\n",
              "2          V  1382128\n",
              "3          G  1376124\n",
              "4          E  1249356\n",
              "5          S  1210750\n",
              "6          I  1185722\n",
              "7          R  1085950\n",
              "8          D  1080572\n",
              "9          K  1047638\n",
              "10         T  1039590\n",
              "11         P   850937\n",
              "12         F   820778\n",
              "13         N   757315\n",
              "14         Q   714424\n",
              "15         Y   639252\n",
              "16         M   428275\n",
              "17         H   426922\n",
              "18         C   264434\n",
              "19         W   263317\n",
              "20         X      146\n",
              "21         U       12"
            ]
          },
          "metadata": {
            "tags": []
          },
          "execution_count": 24
        }
      ]
    },
    {
      "cell_type": "code",
      "metadata": {
        "id": "I4bfeu4BxXGC"
      },
      "source": [
        "def plot_aminoacid_frequency(df, data_name):\n",
        "    plt.title(f'Aminoacid frequency: {data_name}')\n",
        "    sns.barplot(x='Aminoacid', y='Freq', data=df)"
      ],
      "execution_count": null,
      "outputs": []
    },
    {
      "cell_type": "code",
      "metadata": {
        "colab": {
          "base_uri": "https://localhost:8080/",
          "height": 284
        },
        "id": "YRj8tb62xbRo",
        "outputId": "03155f3d-65fd-499c-dcbe-2618638fe41f"
      },
      "source": [
        "plt.subplot(1, 3, 1)\n",
        "plot_aminoacid_frequency(train_aminoacid_freq , 'Train')\n",
        "\n",
        "plt.subplot(1, 3, 2)\n",
        "plot_aminoacid_frequency(test_aminoacid_freq , 'Test')\n",
        "\n",
        "plt.subplot(1, 3, 3)\n",
        "plot_aminoacid_frequency(dev_aminoacid_freq , 'Dev')\n",
        "\n",
        "plt.subplots_adjust(right=3.0)\n",
        "plt.show()"
      ],
      "execution_count": null,
      "outputs": [
        {
          "output_type": "display_data",
          "data": {
            "image/png": "[encoded data removed]",
            "text/plain": [
              "<Figure size 432x288 with 3 Axes>"
            ]
          },
          "metadata": {
            "tags": [],
            "needs_background": "light"
          }
        }
      ]
    },
    {
      "cell_type": "markdown",
      "metadata": {
        "id": "rFpgQX0nIWRx"
      },
      "source": [
        "**Aminoacid frequency**\n",
        "We have a 24 unique amino acids.\n",
        "the rarest amino acids are X, U, B, O, and Z.\n",
        "The most common amino acid are L, A, V, G.\n",
        "We will neglect the rarest amino acids for the multi class classification.\n",
        "(We will drop X U B O and Z for training and test)\n",
        "\n",
        "The 24 amino acids are present in the train, dev and test datasets.\n",
        "\n",
        "**Choice of the number of classes**\n",
        "\n",
        "We will choose 1000 classes (family_accession) due to limited ressources and also because most of classes have less than 1000 occurences according to https://colab.research.google.com/drive/1Uwfp3I8P5Z0r4T6bumA8-VciAmSVOnVW#scrollTo=qAtEn4X7MD9_&line=2&uniqifier=1.\n",
        "Decreasing the number of classes from 17929 to 1000 (for training) and from 13026 to 1000 (for validation or test ).\n",
        "\n",
        "\n"
      ]
    },
    {
      "cell_type": "code",
      "metadata": {
        "colab": {
          "base_uri": "https://localhost:8080/"
        },
        "id": "qAqhuqAuxiUY",
        "outputId": "ec929850-3086-4dfe-8b6f-6c54752e6668"
      },
      "source": [
        "classes = data1['family_accession'].value_counts()[:1000].index.tolist()\n",
        "len(classes)\n"
      ],
      "execution_count": null,
      "outputs": [
        {
          "output_type": "execute_result",
          "data": {
            "text/plain": [
              "1000"
            ]
          },
          "metadata": {
            "tags": []
          },
          "execution_count": 27
        }
      ]
    },
    {
      "cell_type": "markdown",
      "metadata": {
        "id": "wu9LSxojZtIO"
      },
      "source": [
        "# Data preprocessing and preparation"
      ]
    },
    {
      "cell_type": "markdown",
      "metadata": {
        "id": "zrkdZeqjMwAJ"
      },
      "source": [
        "**Data preprocessing and preparation**\n",
        "\n",
        "*The input of our model is : Sequences (AVLAG...) that's why we need to transform them to numerical form. The numerical form is needed when we will use deep learning model of multi class protein classification. The letters can't be interpreted by deep learning models.\n",
        "Each amino acid will be replaced by an integer (encoder). After that we will use an embedding vector with higher dimension. It will facilitate the work of the neural network of our deep learning model.\n",
        "\n",
        "*The output is the class or 'family_accession'. The ourtput will be replaced by an integer (label encoder) then one hit encoded.\n"
      ]
    },
    {
      "cell_type": "code",
      "metadata": {
        "id": "QeqQ95ssyGvW"
      },
      "source": [
        "train_data = data1.loc[data1['family_accession'].isin(classes)].reset_index()\n",
        "test_data = data2.loc[data2['family_accession'].isin(classes)].reset_index()\n",
        "dev_data = data3.loc[data3['family_accession'].isin(classes)].reset_index()\n",
        "#Adapting data to the choice of 1000 classes"
      ],
      "execution_count": null,
      "outputs": []
    },
    {
      "cell_type": "code",
      "metadata": {
        "colab": {
          "base_uri": "https://localhost:8080/"
        },
        "id": "srytnTUtyJC3",
        "outputId": "b1acd61a-eb67-4be1-8b08-b80fc46ce7fb"
      },
      "source": [
        "print('The size of each dataset after considering 800 classes for each dataset:')\n",
        "print('Train :', len(train_data))\n",
        "print('Test :', len(test_data))\n",
        "print('Dev :', len(dev_data))"
      ],
      "execution_count": null,
      "outputs": [
        {
          "output_type": "stream",
          "text": [
            "The size of each dataset after considering 800 classes for each dataset:\n",
            "Train : 439493\n",
            "Test : 54378\n",
            "Dev : 54378\n"
          ],
          "name": "stdout"
        }
      ]
    },
    {
      "cell_type": "code",
      "metadata": {
        "id": "3V87934_yTRO",
        "colab": {
          "base_uri": "https://localhost:8080/"
        },
        "outputId": "8b3bc3d6-c07c-4c27-a515-d500cde8dbc2"
      },
      "source": [
        "# Amino acids that will be encoded as an integer and then vectorised \n",
        "# through the embedding layer\n",
        "amino_acid = ['L', 'A', 'V', 'G', 'E', 'S', 'I', 'R', 'D', 'K', 'T', \n",
        "               'P', 'F', 'N', 'Q', 'Y', 'M', 'H', 'C', 'W']\n",
        "#we remove the rare amino acids U B O Z\n",
        "def create_dict(amino_acid):\n",
        "    char_dict = {}\n",
        "    for index, val in enumerate(amino_acid):\n",
        "        char_dict[val] = index+1\n",
        "    return char_dict\n",
        "char_dict = create_dict(amino_acid)\n",
        "print(char_dict)\n",
        "print(\"Dict Length:\", len(char_dict))\n",
        "#We will put them into a dictionnary with : keys: Amino acids and values"
      ],
      "execution_count": null,
      "outputs": [
        {
          "output_type": "stream",
          "text": [
            "{'L': 1, 'A': 2, 'V': 3, 'G': 4, 'E': 5, 'S': 6, 'I': 7, 'R': 8, 'D': 9, 'K': 10, 'T': 11, 'P': 12, 'F': 13, 'N': 14, 'Q': 15, 'Y': 16, 'M': 17, 'H': 18, 'C': 19, 'W': 20}\n",
            "Dict Length: 20\n"
          ],
          "name": "stdout"
        }
      ]
    },
    {
      "cell_type": "code",
      "metadata": {
        "id": "cKfu-gW3yfJ7"
      },
      "source": [
        "def one_hot_encoding(df):\n",
        "  encode_list = []\n",
        "  for row in df['sequence'].values:\n",
        "   row_encode = []\n",
        "   for code in row:\n",
        "    row_encode.append(char_dict.get(code, 0))\n",
        "   encode_list.append(np.array(row_encode))\n",
        "  \n",
        "  return encode_list\n",
        "  #Encodes  sequence to integer values using the dictionnary of aminoacis\n",
        "  #20 amino acids acids are taken into consideration\n",
        "  #Return a list of integers\n",
        "   "
      ],
      "execution_count": null,
      "outputs": []
    },
    {
      "cell_type": "code",
      "metadata": {
        "id": "voC3s2xLzQQS"
      },
      "source": [
        "train_encode = one_hot_encoding(train_data) \n",
        "test_encode = one_hot_encoding(test_data) \n",
        "dev_encode = one_hot_encoding(dev_data)"
      ],
      "execution_count": null,
      "outputs": []
    },
    {
      "cell_type": "code",
      "metadata": {
        "id": "Yt7LM2RFE3NC",
        "colab": {
          "base_uri": "https://localhost:8080/"
        },
        "outputId": "1e1e8b5f-68a1-4def-fbaa-0f31ff219e03"
      },
      "source": [
        "# padding sequences to have an uniform datasets\n",
        "\n",
        "max_length = 100\n",
        "train_pad = pad_sequences(train_encode, maxlen=max_length, padding='post', truncating='post')\n",
        "test_pad = pad_sequences(test_encode, maxlen=max_length, padding='post', truncating='post')\n",
        "dev_pad = pad_sequences(dev_encode, maxlen=max_length, padding='post', truncating='post')\n",
        "\n",
        "train_pad.shape, test_pad.shape, dev_pad.shape\n"
      ],
      "execution_count": null,
      "outputs": [
        {
          "output_type": "execute_result",
          "data": {
            "text/plain": [
              "((439493, 100), (54378, 100), (54378, 100))"
            ]
          },
          "metadata": {
            "tags": []
          },
          "execution_count": 33
        }
      ]
    },
    {
      "cell_type": "code",
      "metadata": {
        "id": "NP0mvPyabanR",
        "colab": {
          "base_uri": "https://localhost:8080/"
        },
        "outputId": "4bd27ce2-6a2d-48a5-cc45-77fdd81940e6"
      },
      "source": [
        "# One hot encoding of sequences\n",
        "train_ohe = to_categorical(train_pad)\n",
        "test_ohe = to_categorical(test_pad)\n",
        "dev_ohe = to_categorical(dev_pad)\n",
        "\n",
        "train_ohe.shape, test_ohe.shape, dev_ohe.shape"
      ],
      "execution_count": null,
      "outputs": [
        {
          "output_type": "execute_result",
          "data": {
            "text/plain": [
              "((439493, 100, 21), (54378, 100, 21), (54378, 100, 21))"
            ]
          },
          "metadata": {
            "tags": []
          },
          "execution_count": 34
        }
      ]
    },
    {
      "cell_type": "code",
      "metadata": {
        "id": "Lwph-xgn0MV_",
        "colab": {
          "base_uri": "https://localhost:8080/"
        },
        "outputId": "515bd1c2-1841-498a-880e-f972ea2ef5d6"
      },
      "source": [
        "#Labelencoder the output\n",
        "le = LabelEncoder()\n",
        "\n",
        "y_train_le = le.fit_transform(train_data['family_accession'])\n",
        "y_test_le = le.transform(test_data['family_accession'])\n",
        "y_dev_le = le.transform(dev_data['family_accession'])\n",
        "\n",
        "y_train_le.shape, y_test_le.shape, y_dev_le.shape"
      ],
      "execution_count": null,
      "outputs": [
        {
          "output_type": "execute_result",
          "data": {
            "text/plain": [
              "((439493,), (54378,), (54378,))"
            ]
          },
          "metadata": {
            "tags": []
          },
          "execution_count": 35
        }
      ]
    },
    {
      "cell_type": "code",
      "metadata": {
        "id": "BGgkT4Wq2Z3-",
        "colab": {
          "base_uri": "https://localhost:8080/"
        },
        "outputId": "8f10fe3f-5316-4bd7-bc46-e953ecc4090d"
      },
      "source": [
        "print('Total classes: ', len(le.classes_))\n",
        "# le.classes_"
      ],
      "execution_count": null,
      "outputs": [
        {
          "output_type": "stream",
          "text": [
            "Total classes:  1000\n"
          ],
          "name": "stdout"
        }
      ]
    },
    {
      "cell_type": "code",
      "metadata": {
        "id": "XA3xhgkq23fe",
        "colab": {
          "base_uri": "https://localhost:8080/"
        },
        "outputId": "0d3a5a62-fa50-4932-fb09-2e418815a042"
      },
      "source": [
        "# One hot encoding of outputs\n",
        "y_train = to_categorical(y_train_le)\n",
        "y_test = to_categorical(y_test_le)\n",
        "y_dev = to_categorical(y_dev_le)\n",
        "\n",
        "y_train.shape, y_test.shape, y_dev.shape"
      ],
      "execution_count": null,
      "outputs": [
        {
          "output_type": "execute_result",
          "data": {
            "text/plain": [
              "((439493, 1000), (54378, 1000), (54378, 1000))"
            ]
          },
          "metadata": {
            "tags": []
          },
          "execution_count": 37
        }
      ]
    },
    {
      "cell_type": "markdown",
      "metadata": {
        "id": "ZFzJtszCZz45"
      },
      "source": [
        "# Classification and Model evaluation"
      ]
    },
    {
      "cell_type": "markdown",
      "metadata": {
        "id": "T9nf_C6Z4Df0"
      },
      "source": [
        "**Classification**\n",
        "\n",
        "*Objective* : Realize the multiclass protein classification.\n",
        "Prediction of the class \"family accession\" of a protein given its sequence of amino acids (Sequence length: 100).\n",
        "\n",
        "* To do we will use a deep learning model. We will choose Long short-term memory (LSTM) (an artificial recurrent neural network (RNN)). We choosed that model because we need a model which takes into account the chronological order of amino acids (For exemples LVA and LAV are different). That's why LSTM is used. This model can keep his memory the information that he saw recently.\n",
        "\n",
        "* The sequences will first be encoded using a dictionnary of the 20 amino acids retained during the data analysis, then embedded as 128-dimensional vectors. The LSTM output will be then be passed into a Dense layer. The final predictions will be a 1000-dimensional vector representing the probability the sequence belongs to each of the 1000 families. \n",
        "We will use Softmax as activation function and Categorical_crossentropy as loss function for backpropagation.\n",
        "For the training we will use train_pad data (padding= make data uniform)\n",
        "For the test or validation (dev and train data).\n",
        "We will use dropout layer to avoid overfitting problems.\n",
        "\n",
        "* In the end we will evaluate the model by calculating the accuracy and the loss of the model (scores)\n"
      ]
    },
    {
      "cell_type": "code",
      "metadata": {
        "id": "KBd5LbGNAF2M"
      },
      "source": [
        "from tensorflow import keras\n",
        "import tensorflow as tf\n",
        "from tensorflow.keras import layers\n",
        "from tensorflow.keras.models import Sequential\n",
        "from tensorflow.keras.layers import Dense\n",
        "from tensorflow.keras.layers import LSTM\n",
        "from tensorflow.keras.layers import Dropout\n",
        "from tensorflow.keras.layers import Conv1D\n",
        "from tensorflow.keras.layers import MaxPooling1D\n",
        "from tensorflow.keras.layers import Embedding\n",
        "from tensorflow.keras.layers import Bidirectional"
      ],
      "execution_count": null,
      "outputs": []
    },
    {
      "cell_type": "code",
      "metadata": {
        "id": "tHzrG112C4Ze"
      },
      "source": [
        "import os\n",
        "import gc\n",
        "\n",
        "import numpy as np\n",
        "import pandas as pd\n",
        "import matplotlib.pyplot as plt\n",
        "import seaborn as sns\n",
        "\n",
        "from collections import Counter\n",
        "from prettytable import PrettyTable\n",
        "from IPython.display import Image\n",
        "\n",
        "from sklearn.preprocessing import LabelEncoder\n",
        "\n",
        "from keras.models import Model\n",
        "from keras.regularizers import l2\n",
        "from keras.constraints import max_norm\n",
        "from keras.utils import to_categorical\n",
        "from keras.preprocessing.text import Tokenizer\n",
        "from keras.preprocessing.sequence import pad_sequences\n",
        "from keras.callbacks import EarlyStopping\n",
        "from keras.layers import Input, Dense, Dropout, Flatten, Activation\n",
        "from keras.layers import Conv1D, Add,\n",
        "from keras.layers import Embedding, Bidirectional, GlobalMaxPooling1D"
      ],
      "execution_count": null,
      "outputs": []
    },
    {
      "cell_type": "code",
      "metadata": {
        "id": "aZWbyzId4EMv",
        "colab": {
          "base_uri": "https://localhost:8080/"
        },
        "outputId": "1f40ed28-392c-4c4a-a73d-c1ee2b98154a"
      },
      "source": [
        "# Input for variable-length sequences of integers\n",
        "num_of_classes = 1000\n",
        "embedding_vecor_length =128\n",
        "num_aminoacid= 21\n",
        "max_length=100\n",
        "\n",
        "\n",
        "x_input = Input(shape=(100,))\n",
        "emb = Embedding(21, 128, input_length=max_length)(x_input)\n",
        "bi_rnn = Bidirectional(LSTM(64, kernel_regularizer=l2(0.01), recurrent_regularizer=l2(0.01), bias_regularizer=l2(0.01)))(emb)\n",
        "x = Dropout(0.3)(bi_rnn)\n",
        "\n",
        "# softmax classifier\n",
        "\n",
        "x_output = tf.keras.layers.Dense(1000, activation='softmax')(x)\n",
        "\n",
        "model1 = Model(inputs=x_input, outputs=x_output)\n",
        "model1.compile(optimizer='adam', loss='categorical_crossentropy', metrics=['accuracy'])\n",
        "\n",
        "model1.summary()\n",
        "\n",
        "\n",
        "\n"
      ],
      "execution_count": null,
      "outputs": [
        {
          "output_type": "stream",
          "text": [
            "Model: \"model_9\"\n",
            "_________________________________________________________________\n",
            "Layer (type)                 Output Shape              Param #   \n",
            "=================================================================\n",
            "input_14 (InputLayer)        [(None, 100)]             0         \n",
            "_________________________________________________________________\n",
            "embedding_7 (Embedding)      (None, 100, 128)          2688      \n",
            "_________________________________________________________________\n",
            "bidirectional_15 (Bidirectio (None, 128)               98816     \n",
            "_________________________________________________________________\n",
            "dropout_14 (Dropout)         (None, 128)               0         \n",
            "_________________________________________________________________\n",
            "dense_12 (Dense)             (None, 1000)              129000    \n",
            "=================================================================\n",
            "Total params: 230,504\n",
            "Trainable params: 230,504\n",
            "Non-trainable params: 0\n",
            "_________________________________________________________________\n"
          ],
          "name": "stdout"
        }
      ]
    },
    {
      "cell_type": "code",
      "metadata": {
        "id": "o3iAJTbmt2yI"
      },
      "source": [
        "# Early Stopping training is stopped if the evaluation loss is considerably increasing\n",
        "es = EarlyStopping(monitor='val_loss', patience=3, verbose=1)"
      ],
      "execution_count": null,
      "outputs": []
    },
    {
      "cell_type": "markdown",
      "metadata": {
        "id": "NxXN9fygUsm1"
      },
      "source": [
        ""
      ]
    },
    {
      "cell_type": "code",
      "metadata": {
        "id": "RNkNm5DWD8JR",
        "colab": {
          "base_uri": "https://localhost:8080/",
          "height": 919
        },
        "outputId": "13862e6d-ff14-49e5-d94e-cd8bce40dfd1"
      },
      "source": [
        "history = model1.fit(train_pad, y_train, validation_data=(test_pad, dev_pad), epochs=50, batch_size=250, callbacks=[es])\n",
        "\n"
      ],
      "execution_count": null,
      "outputs": [
        {
          "output_type": "stream",
          "text": [
            "Epoch 1/50\n",
            "1756/1758 [============================>.] - ETA: 0s - loss: 6.9600 - accuracy: 0.0443"
          ],
          "name": "stdout"
        },
        {
          "output_type": "error",
          "ename": "ValueError",
          "evalue": "ignored",
          "traceback": [
            "\u001b[0;31m---------------------------------------------------------------------------\u001b[0m",
            "\u001b[0;31mValueError\u001b[0m                                Traceback (most recent call last)",
            "\u001b[0;32m<ipython-input-86-0e2f52c7bc57>\u001b[0m in \u001b[0;36m<module>\u001b[0;34m()\u001b[0m\n\u001b[0;32m----> 1\u001b[0;31m \u001b[0mhistory\u001b[0m \u001b[0;34m=\u001b[0m \u001b[0mmodel1\u001b[0m\u001b[0;34m.\u001b[0m\u001b[0mfit\u001b[0m\u001b[0;34m(\u001b[0m\u001b[0mtrain_pad\u001b[0m\u001b[0;34m,\u001b[0m \u001b[0my_train\u001b[0m\u001b[0;34m,\u001b[0m \u001b[0mvalidation_data\u001b[0m\u001b[0;34m=\u001b[0m\u001b[0;34m(\u001b[0m\u001b[0mtest_pad\u001b[0m\u001b[0;34m,\u001b[0m \u001b[0mdev_pad\u001b[0m\u001b[0;34m)\u001b[0m\u001b[0;34m,\u001b[0m \u001b[0mepochs\u001b[0m\u001b[0;34m=\u001b[0m\u001b[0;36m50\u001b[0m\u001b[0;34m,\u001b[0m \u001b[0mbatch_size\u001b[0m\u001b[0;34m=\u001b[0m\u001b[0;36m250\u001b[0m\u001b[0;34m,\u001b[0m \u001b[0mcallbacks\u001b[0m\u001b[0;34m=\u001b[0m\u001b[0;34m[\u001b[0m\u001b[0mes\u001b[0m\u001b[0;34m]\u001b[0m\u001b[0;34m)\u001b[0m\u001b[0;34m\u001b[0m\u001b[0;34m\u001b[0m\u001b[0m\n\u001b[0m\u001b[1;32m      2\u001b[0m \u001b[0;34m\u001b[0m\u001b[0m\n",
            "\u001b[0;32m/usr/local/lib/python3.7/dist-packages/tensorflow/python/keras/engine/training.py\u001b[0m in \u001b[0;36mfit\u001b[0;34m(self, x, y, batch_size, epochs, verbose, callbacks, validation_split, validation_data, shuffle, class_weight, sample_weight, initial_epoch, steps_per_epoch, validation_steps, validation_batch_size, validation_freq, max_queue_size, workers, use_multiprocessing)\u001b[0m\n\u001b[1;32m   1139\u001b[0m               \u001b[0mworkers\u001b[0m\u001b[0;34m=\u001b[0m\u001b[0mworkers\u001b[0m\u001b[0;34m,\u001b[0m\u001b[0;34m\u001b[0m\u001b[0;34m\u001b[0m\u001b[0m\n\u001b[1;32m   1140\u001b[0m               \u001b[0muse_multiprocessing\u001b[0m\u001b[0;34m=\u001b[0m\u001b[0muse_multiprocessing\u001b[0m\u001b[0;34m,\u001b[0m\u001b[0;34m\u001b[0m\u001b[0;34m\u001b[0m\u001b[0m\n\u001b[0;32m-> 1141\u001b[0;31m               return_dict=True)\n\u001b[0m\u001b[1;32m   1142\u001b[0m           \u001b[0mval_logs\u001b[0m \u001b[0;34m=\u001b[0m \u001b[0;34m{\u001b[0m\u001b[0;34m'val_'\u001b[0m \u001b[0;34m+\u001b[0m \u001b[0mname\u001b[0m\u001b[0;34m:\u001b[0m \u001b[0mval\u001b[0m \u001b[0;32mfor\u001b[0m \u001b[0mname\u001b[0m\u001b[0;34m,\u001b[0m \u001b[0mval\u001b[0m \u001b[0;32min\u001b[0m \u001b[0mval_logs\u001b[0m\u001b[0;34m.\u001b[0m\u001b[0mitems\u001b[0m\u001b[0;34m(\u001b[0m\u001b[0;34m)\u001b[0m\u001b[0;34m}\u001b[0m\u001b[0;34m\u001b[0m\u001b[0;34m\u001b[0m\u001b[0m\n\u001b[1;32m   1143\u001b[0m           \u001b[0mepoch_logs\u001b[0m\u001b[0;34m.\u001b[0m\u001b[0mupdate\u001b[0m\u001b[0;34m(\u001b[0m\u001b[0mval_logs\u001b[0m\u001b[0;34m)\u001b[0m\u001b[0;34m\u001b[0m\u001b[0;34m\u001b[0m\u001b[0m\n",
            "\u001b[0;32m/usr/local/lib/python3.7/dist-packages/tensorflow/python/keras/engine/training.py\u001b[0m in \u001b[0;36mevaluate\u001b[0;34m(self, x, y, batch_size, verbose, sample_weight, steps, callbacks, max_queue_size, workers, use_multiprocessing, return_dict)\u001b[0m\n\u001b[1;32m   1387\u001b[0m             \u001b[0;32mwith\u001b[0m \u001b[0mtrace\u001b[0m\u001b[0;34m.\u001b[0m\u001b[0mTrace\u001b[0m\u001b[0;34m(\u001b[0m\u001b[0;34m'test'\u001b[0m\u001b[0;34m,\u001b[0m \u001b[0mstep_num\u001b[0m\u001b[0;34m=\u001b[0m\u001b[0mstep\u001b[0m\u001b[0;34m,\u001b[0m \u001b[0m_r\u001b[0m\u001b[0;34m=\u001b[0m\u001b[0;36m1\u001b[0m\u001b[0;34m)\u001b[0m\u001b[0;34m:\u001b[0m\u001b[0;34m\u001b[0m\u001b[0;34m\u001b[0m\u001b[0m\n\u001b[1;32m   1388\u001b[0m               \u001b[0mcallbacks\u001b[0m\u001b[0;34m.\u001b[0m\u001b[0mon_test_batch_begin\u001b[0m\u001b[0;34m(\u001b[0m\u001b[0mstep\u001b[0m\u001b[0;34m)\u001b[0m\u001b[0;34m\u001b[0m\u001b[0;34m\u001b[0m\u001b[0m\n\u001b[0;32m-> 1389\u001b[0;31m               \u001b[0mtmp_logs\u001b[0m \u001b[0;34m=\u001b[0m \u001b[0mself\u001b[0m\u001b[0;34m.\u001b[0m\u001b[0mtest_function\u001b[0m\u001b[0;34m(\u001b[0m\u001b[0miterator\u001b[0m\u001b[0;34m)\u001b[0m\u001b[0;34m\u001b[0m\u001b[0;34m\u001b[0m\u001b[0m\n\u001b[0m\u001b[1;32m   1390\u001b[0m               \u001b[0;32mif\u001b[0m \u001b[0mdata_handler\u001b[0m\u001b[0;34m.\u001b[0m\u001b[0mshould_sync\u001b[0m\u001b[0;34m:\u001b[0m\u001b[0;34m\u001b[0m\u001b[0;34m\u001b[0m\u001b[0m\n\u001b[1;32m   1391\u001b[0m                 \u001b[0mcontext\u001b[0m\u001b[0;34m.\u001b[0m\u001b[0masync_wait\u001b[0m\u001b[0;34m(\u001b[0m\u001b[0;34m)\u001b[0m\u001b[0;34m\u001b[0m\u001b[0;34m\u001b[0m\u001b[0m\n",
            "\u001b[0;32m/usr/local/lib/python3.7/dist-packages/tensorflow/python/eager/def_function.py\u001b[0m in \u001b[0;36m__call__\u001b[0;34m(self, *args, **kwds)\u001b[0m\n\u001b[1;32m    826\u001b[0m     \u001b[0mtracing_count\u001b[0m \u001b[0;34m=\u001b[0m \u001b[0mself\u001b[0m\u001b[0;34m.\u001b[0m\u001b[0mexperimental_get_tracing_count\u001b[0m\u001b[0;34m(\u001b[0m\u001b[0;34m)\u001b[0m\u001b[0;34m\u001b[0m\u001b[0;34m\u001b[0m\u001b[0m\n\u001b[1;32m    827\u001b[0m     \u001b[0;32mwith\u001b[0m \u001b[0mtrace\u001b[0m\u001b[0;34m.\u001b[0m\u001b[0mTrace\u001b[0m\u001b[0;34m(\u001b[0m\u001b[0mself\u001b[0m\u001b[0;34m.\u001b[0m\u001b[0m_name\u001b[0m\u001b[0;34m)\u001b[0m \u001b[0;32mas\u001b[0m \u001b[0mtm\u001b[0m\u001b[0;34m:\u001b[0m\u001b[0;34m\u001b[0m\u001b[0;34m\u001b[0m\u001b[0m\n\u001b[0;32m--> 828\u001b[0;31m       \u001b[0mresult\u001b[0m \u001b[0;34m=\u001b[0m \u001b[0mself\u001b[0m\u001b[0;34m.\u001b[0m\u001b[0m_call\u001b[0m\u001b[0;34m(\u001b[0m\u001b[0;34m*\u001b[0m\u001b[0margs\u001b[0m\u001b[0;34m,\u001b[0m \u001b[0;34m**\u001b[0m\u001b[0mkwds\u001b[0m\u001b[0;34m)\u001b[0m\u001b[0;34m\u001b[0m\u001b[0;34m\u001b[0m\u001b[0m\n\u001b[0m\u001b[1;32m    829\u001b[0m       \u001b[0mcompiler\u001b[0m \u001b[0;34m=\u001b[0m \u001b[0;34m\"xla\"\u001b[0m \u001b[0;32mif\u001b[0m \u001b[0mself\u001b[0m\u001b[0;34m.\u001b[0m\u001b[0m_experimental_compile\u001b[0m \u001b[0;32melse\u001b[0m \u001b[0;34m\"nonXla\"\u001b[0m\u001b[0;34m\u001b[0m\u001b[0;34m\u001b[0m\u001b[0m\n\u001b[1;32m    830\u001b[0m       \u001b[0mnew_tracing_count\u001b[0m \u001b[0;34m=\u001b[0m \u001b[0mself\u001b[0m\u001b[0;34m.\u001b[0m\u001b[0mexperimental_get_tracing_count\u001b[0m\u001b[0;34m(\u001b[0m\u001b[0;34m)\u001b[0m\u001b[0;34m\u001b[0m\u001b[0;34m\u001b[0m\u001b[0m\n",
            "\u001b[0;32m/usr/local/lib/python3.7/dist-packages/tensorflow/python/eager/def_function.py\u001b[0m in \u001b[0;36m_call\u001b[0;34m(self, *args, **kwds)\u001b[0m\n\u001b[1;32m    869\u001b[0m       \u001b[0;31m# This is the first call of __call__, so we have to initialize.\u001b[0m\u001b[0;34m\u001b[0m\u001b[0;34m\u001b[0m\u001b[0;34m\u001b[0m\u001b[0m\n\u001b[1;32m    870\u001b[0m       \u001b[0minitializers\u001b[0m \u001b[0;34m=\u001b[0m \u001b[0;34m[\u001b[0m\u001b[0;34m]\u001b[0m\u001b[0;34m\u001b[0m\u001b[0;34m\u001b[0m\u001b[0m\n\u001b[0;32m--> 871\u001b[0;31m       \u001b[0mself\u001b[0m\u001b[0;34m.\u001b[0m\u001b[0m_initialize\u001b[0m\u001b[0;34m(\u001b[0m\u001b[0margs\u001b[0m\u001b[0;34m,\u001b[0m \u001b[0mkwds\u001b[0m\u001b[0;34m,\u001b[0m \u001b[0madd_initializers_to\u001b[0m\u001b[0;34m=\u001b[0m\u001b[0minitializers\u001b[0m\u001b[0;34m)\u001b[0m\u001b[0;34m\u001b[0m\u001b[0;34m\u001b[0m\u001b[0m\n\u001b[0m\u001b[1;32m    872\u001b[0m     \u001b[0;32mfinally\u001b[0m\u001b[0;34m:\u001b[0m\u001b[0;34m\u001b[0m\u001b[0;34m\u001b[0m\u001b[0m\n\u001b[1;32m    873\u001b[0m       \u001b[0;31m# At this point we know that the initialization is complete (or less\u001b[0m\u001b[0;34m\u001b[0m\u001b[0;34m\u001b[0m\u001b[0;34m\u001b[0m\u001b[0m\n",
            "\u001b[0;32m/usr/local/lib/python3.7/dist-packages/tensorflow/python/eager/def_function.py\u001b[0m in \u001b[0;36m_initialize\u001b[0;34m(self, args, kwds, add_initializers_to)\u001b[0m\n\u001b[1;32m    724\u001b[0m     self._concrete_stateful_fn = (\n\u001b[1;32m    725\u001b[0m         self._stateful_fn._get_concrete_function_internal_garbage_collected(  # pylint: disable=protected-access\n\u001b[0;32m--> 726\u001b[0;31m             *args, **kwds))\n\u001b[0m\u001b[1;32m    727\u001b[0m \u001b[0;34m\u001b[0m\u001b[0m\n\u001b[1;32m    728\u001b[0m     \u001b[0;32mdef\u001b[0m \u001b[0minvalid_creator_scope\u001b[0m\u001b[0;34m(\u001b[0m\u001b[0;34m*\u001b[0m\u001b[0munused_args\u001b[0m\u001b[0;34m,\u001b[0m \u001b[0;34m**\u001b[0m\u001b[0munused_kwds\u001b[0m\u001b[0;34m)\u001b[0m\u001b[0;34m:\u001b[0m\u001b[0;34m\u001b[0m\u001b[0;34m\u001b[0m\u001b[0m\n",
            "\u001b[0;32m/usr/local/lib/python3.7/dist-packages/tensorflow/python/eager/function.py\u001b[0m in \u001b[0;36m_get_concrete_function_internal_garbage_collected\u001b[0;34m(self, *args, **kwargs)\u001b[0m\n\u001b[1;32m   2967\u001b[0m       \u001b[0margs\u001b[0m\u001b[0;34m,\u001b[0m \u001b[0mkwargs\u001b[0m \u001b[0;34m=\u001b[0m \u001b[0;32mNone\u001b[0m\u001b[0;34m,\u001b[0m \u001b[0;32mNone\u001b[0m\u001b[0;34m\u001b[0m\u001b[0;34m\u001b[0m\u001b[0m\n\u001b[1;32m   2968\u001b[0m     \u001b[0;32mwith\u001b[0m \u001b[0mself\u001b[0m\u001b[0;34m.\u001b[0m\u001b[0m_lock\u001b[0m\u001b[0;34m:\u001b[0m\u001b[0;34m\u001b[0m\u001b[0;34m\u001b[0m\u001b[0m\n\u001b[0;32m-> 2969\u001b[0;31m       \u001b[0mgraph_function\u001b[0m\u001b[0;34m,\u001b[0m \u001b[0m_\u001b[0m \u001b[0;34m=\u001b[0m \u001b[0mself\u001b[0m\u001b[0;34m.\u001b[0m\u001b[0m_maybe_define_function\u001b[0m\u001b[0;34m(\u001b[0m\u001b[0margs\u001b[0m\u001b[0;34m,\u001b[0m \u001b[0mkwargs\u001b[0m\u001b[0;34m)\u001b[0m\u001b[0;34m\u001b[0m\u001b[0;34m\u001b[0m\u001b[0m\n\u001b[0m\u001b[1;32m   2970\u001b[0m     \u001b[0;32mreturn\u001b[0m \u001b[0mgraph_function\u001b[0m\u001b[0;34m\u001b[0m\u001b[0;34m\u001b[0m\u001b[0m\n\u001b[1;32m   2971\u001b[0m \u001b[0;34m\u001b[0m\u001b[0m\n",
            "\u001b[0;32m/usr/local/lib/python3.7/dist-packages/tensorflow/python/eager/function.py\u001b[0m in \u001b[0;36m_maybe_define_function\u001b[0;34m(self, args, kwargs)\u001b[0m\n\u001b[1;32m   3359\u001b[0m \u001b[0;34m\u001b[0m\u001b[0m\n\u001b[1;32m   3360\u001b[0m           \u001b[0mself\u001b[0m\u001b[0;34m.\u001b[0m\u001b[0m_function_cache\u001b[0m\u001b[0;34m.\u001b[0m\u001b[0mmissed\u001b[0m\u001b[0;34m.\u001b[0m\u001b[0madd\u001b[0m\u001b[0;34m(\u001b[0m\u001b[0mcall_context_key\u001b[0m\u001b[0;34m)\u001b[0m\u001b[0;34m\u001b[0m\u001b[0;34m\u001b[0m\u001b[0m\n\u001b[0;32m-> 3361\u001b[0;31m           \u001b[0mgraph_function\u001b[0m \u001b[0;34m=\u001b[0m \u001b[0mself\u001b[0m\u001b[0;34m.\u001b[0m\u001b[0m_create_graph_function\u001b[0m\u001b[0;34m(\u001b[0m\u001b[0margs\u001b[0m\u001b[0;34m,\u001b[0m \u001b[0mkwargs\u001b[0m\u001b[0;34m)\u001b[0m\u001b[0;34m\u001b[0m\u001b[0;34m\u001b[0m\u001b[0m\n\u001b[0m\u001b[1;32m   3362\u001b[0m           \u001b[0mself\u001b[0m\u001b[0;34m.\u001b[0m\u001b[0m_function_cache\u001b[0m\u001b[0;34m.\u001b[0m\u001b[0mprimary\u001b[0m\u001b[0;34m[\u001b[0m\u001b[0mcache_key\u001b[0m\u001b[0;34m]\u001b[0m \u001b[0;34m=\u001b[0m \u001b[0mgraph_function\u001b[0m\u001b[0;34m\u001b[0m\u001b[0;34m\u001b[0m\u001b[0m\n\u001b[1;32m   3363\u001b[0m \u001b[0;34m\u001b[0m\u001b[0m\n",
            "\u001b[0;32m/usr/local/lib/python3.7/dist-packages/tensorflow/python/eager/function.py\u001b[0m in \u001b[0;36m_create_graph_function\u001b[0;34m(self, args, kwargs, override_flat_arg_shapes)\u001b[0m\n\u001b[1;32m   3204\u001b[0m             \u001b[0marg_names\u001b[0m\u001b[0;34m=\u001b[0m\u001b[0marg_names\u001b[0m\u001b[0;34m,\u001b[0m\u001b[0;34m\u001b[0m\u001b[0;34m\u001b[0m\u001b[0m\n\u001b[1;32m   3205\u001b[0m             \u001b[0moverride_flat_arg_shapes\u001b[0m\u001b[0;34m=\u001b[0m\u001b[0moverride_flat_arg_shapes\u001b[0m\u001b[0;34m,\u001b[0m\u001b[0;34m\u001b[0m\u001b[0;34m\u001b[0m\u001b[0m\n\u001b[0;32m-> 3206\u001b[0;31m             capture_by_value=self._capture_by_value),\n\u001b[0m\u001b[1;32m   3207\u001b[0m         \u001b[0mself\u001b[0m\u001b[0;34m.\u001b[0m\u001b[0m_function_attributes\u001b[0m\u001b[0;34m,\u001b[0m\u001b[0;34m\u001b[0m\u001b[0;34m\u001b[0m\u001b[0m\n\u001b[1;32m   3208\u001b[0m         \u001b[0mfunction_spec\u001b[0m\u001b[0;34m=\u001b[0m\u001b[0mself\u001b[0m\u001b[0;34m.\u001b[0m\u001b[0mfunction_spec\u001b[0m\u001b[0;34m,\u001b[0m\u001b[0;34m\u001b[0m\u001b[0;34m\u001b[0m\u001b[0m\n",
            "\u001b[0;32m/usr/local/lib/python3.7/dist-packages/tensorflow/python/framework/func_graph.py\u001b[0m in \u001b[0;36mfunc_graph_from_py_func\u001b[0;34m(name, python_func, args, kwargs, signature, func_graph, autograph, autograph_options, add_control_dependencies, arg_names, op_return_value, collections, capture_by_value, override_flat_arg_shapes)\u001b[0m\n\u001b[1;32m    988\u001b[0m         \u001b[0m_\u001b[0m\u001b[0;34m,\u001b[0m \u001b[0moriginal_func\u001b[0m \u001b[0;34m=\u001b[0m \u001b[0mtf_decorator\u001b[0m\u001b[0;34m.\u001b[0m\u001b[0munwrap\u001b[0m\u001b[0;34m(\u001b[0m\u001b[0mpython_func\u001b[0m\u001b[0;34m)\u001b[0m\u001b[0;34m\u001b[0m\u001b[0;34m\u001b[0m\u001b[0m\n\u001b[1;32m    989\u001b[0m \u001b[0;34m\u001b[0m\u001b[0m\n\u001b[0;32m--> 990\u001b[0;31m       \u001b[0mfunc_outputs\u001b[0m \u001b[0;34m=\u001b[0m \u001b[0mpython_func\u001b[0m\u001b[0;34m(\u001b[0m\u001b[0;34m*\u001b[0m\u001b[0mfunc_args\u001b[0m\u001b[0;34m,\u001b[0m \u001b[0;34m**\u001b[0m\u001b[0mfunc_kwargs\u001b[0m\u001b[0;34m)\u001b[0m\u001b[0;34m\u001b[0m\u001b[0;34m\u001b[0m\u001b[0m\n\u001b[0m\u001b[1;32m    991\u001b[0m \u001b[0;34m\u001b[0m\u001b[0m\n\u001b[1;32m    992\u001b[0m       \u001b[0;31m# invariant: `func_outputs` contains only Tensors, CompositeTensors,\u001b[0m\u001b[0;34m\u001b[0m\u001b[0;34m\u001b[0m\u001b[0;34m\u001b[0m\u001b[0m\n",
            "\u001b[0;32m/usr/local/lib/python3.7/dist-packages/tensorflow/python/eager/def_function.py\u001b[0m in \u001b[0;36mwrapped_fn\u001b[0;34m(*args, **kwds)\u001b[0m\n\u001b[1;32m    632\u001b[0m             \u001b[0mxla_context\u001b[0m\u001b[0;34m.\u001b[0m\u001b[0mExit\u001b[0m\u001b[0;34m(\u001b[0m\u001b[0;34m)\u001b[0m\u001b[0;34m\u001b[0m\u001b[0;34m\u001b[0m\u001b[0m\n\u001b[1;32m    633\u001b[0m         \u001b[0;32melse\u001b[0m\u001b[0;34m:\u001b[0m\u001b[0;34m\u001b[0m\u001b[0;34m\u001b[0m\u001b[0m\n\u001b[0;32m--> 634\u001b[0;31m           \u001b[0mout\u001b[0m \u001b[0;34m=\u001b[0m \u001b[0mweak_wrapped_fn\u001b[0m\u001b[0;34m(\u001b[0m\u001b[0;34m)\u001b[0m\u001b[0;34m.\u001b[0m\u001b[0m__wrapped__\u001b[0m\u001b[0;34m(\u001b[0m\u001b[0;34m*\u001b[0m\u001b[0margs\u001b[0m\u001b[0;34m,\u001b[0m \u001b[0;34m**\u001b[0m\u001b[0mkwds\u001b[0m\u001b[0;34m)\u001b[0m\u001b[0;34m\u001b[0m\u001b[0;34m\u001b[0m\u001b[0m\n\u001b[0m\u001b[1;32m    635\u001b[0m         \u001b[0;32mreturn\u001b[0m \u001b[0mout\u001b[0m\u001b[0;34m\u001b[0m\u001b[0;34m\u001b[0m\u001b[0m\n\u001b[1;32m    636\u001b[0m \u001b[0;34m\u001b[0m\u001b[0m\n",
            "\u001b[0;32m/usr/local/lib/python3.7/dist-packages/tensorflow/python/framework/func_graph.py\u001b[0m in \u001b[0;36mwrapper\u001b[0;34m(*args, **kwargs)\u001b[0m\n\u001b[1;32m    975\u001b[0m           \u001b[0;32mexcept\u001b[0m \u001b[0mException\u001b[0m \u001b[0;32mas\u001b[0m \u001b[0me\u001b[0m\u001b[0;34m:\u001b[0m  \u001b[0;31m# pylint:disable=broad-except\u001b[0m\u001b[0;34m\u001b[0m\u001b[0;34m\u001b[0m\u001b[0m\n\u001b[1;32m    976\u001b[0m             \u001b[0;32mif\u001b[0m \u001b[0mhasattr\u001b[0m\u001b[0;34m(\u001b[0m\u001b[0me\u001b[0m\u001b[0;34m,\u001b[0m \u001b[0;34m\"ag_error_metadata\"\u001b[0m\u001b[0;34m)\u001b[0m\u001b[0;34m:\u001b[0m\u001b[0;34m\u001b[0m\u001b[0;34m\u001b[0m\u001b[0m\n\u001b[0;32m--> 977\u001b[0;31m               \u001b[0;32mraise\u001b[0m \u001b[0me\u001b[0m\u001b[0;34m.\u001b[0m\u001b[0mag_error_metadata\u001b[0m\u001b[0;34m.\u001b[0m\u001b[0mto_exception\u001b[0m\u001b[0;34m(\u001b[0m\u001b[0me\u001b[0m\u001b[0;34m)\u001b[0m\u001b[0;34m\u001b[0m\u001b[0;34m\u001b[0m\u001b[0m\n\u001b[0m\u001b[1;32m    978\u001b[0m             \u001b[0;32melse\u001b[0m\u001b[0;34m:\u001b[0m\u001b[0;34m\u001b[0m\u001b[0;34m\u001b[0m\u001b[0m\n\u001b[1;32m    979\u001b[0m               \u001b[0;32mraise\u001b[0m\u001b[0;34m\u001b[0m\u001b[0;34m\u001b[0m\u001b[0m\n",
            "\u001b[0;31mValueError\u001b[0m: in user code:\n\n    /usr/local/lib/python3.7/dist-packages/tensorflow/python/keras/engine/training.py:1233 test_function  *\n        return step_function(self, iterator)\n    /usr/local/lib/python3.7/dist-packages/tensorflow/python/keras/engine/training.py:1224 step_function  **\n        outputs = model.distribute_strategy.run(run_step, args=(data,))\n    /usr/local/lib/python3.7/dist-packages/tensorflow/python/distribute/distribute_lib.py:1259 run\n        return self._extended.call_for_each_replica(fn, args=args, kwargs=kwargs)\n    /usr/local/lib/python3.7/dist-packages/tensorflow/python/distribute/distribute_lib.py:2730 call_for_each_replica\n        return self._call_for_each_replica(fn, args, kwargs)\n    /usr/local/lib/python3.7/dist-packages/tensorflow/python/distribute/distribute_lib.py:3417 _call_for_each_replica\n        return fn(*args, **kwargs)\n    /usr/local/lib/python3.7/dist-packages/tensorflow/python/keras/engine/training.py:1217 run_step  **\n        outputs = model.test_step(data)\n    /usr/local/lib/python3.7/dist-packages/tensorflow/python/keras/engine/training.py:1186 test_step\n        y, y_pred, sample_weight, regularization_losses=self.losses)\n    /usr/local/lib/python3.7/dist-packages/tensorflow/python/keras/engine/compile_utils.py:203 __call__\n        loss_value = loss_obj(y_t, y_p, sample_weight=sw)\n    /usr/local/lib/python3.7/dist-packages/tensorflow/python/keras/losses.py:152 __call__\n        losses = call_fn(y_true, y_pred)\n    /usr/local/lib/python3.7/dist-packages/tensorflow/python/keras/losses.py:256 call  **\n        return ag_fn(y_true, y_pred, **self._fn_kwargs)\n    /usr/local/lib/python3.7/dist-packages/tensorflow/python/util/dispatch.py:201 wrapper\n        return target(*args, **kwargs)\n    /usr/local/lib/python3.7/dist-packages/tensorflow/python/keras/losses.py:1537 categorical_crossentropy\n        return K.categorical_crossentropy(y_true, y_pred, from_logits=from_logits)\n    /usr/local/lib/python3.7/dist-packages/tensorflow/python/util/dispatch.py:201 wrapper\n        return target(*args, **kwargs)\n    /usr/local/lib/python3.7/dist-packages/tensorflow/python/keras/backend.py:4833 categorical_crossentropy\n        target.shape.assert_is_compatible_with(output.shape)\n    /usr/local/lib/python3.7/dist-packages/tensorflow/python/framework/tensor_shape.py:1134 assert_is_compatible_with\n        raise ValueError(\"Shapes %s and %s are incompatible\" % (self, other))\n\n    ValueError: Shapes (None, 100) and (None, 1000) are incompatible\n"
          ]
        }
      ]
    },
    {
      "cell_type": "markdown",
      "metadata": {
        "id": "Dn9K9jRlYFwJ"
      },
      "source": [
        "I had an issue in running the model. I tried to fix. I think its a problem of version (In this version and according to my search in Stack Overflow, Dense layer is not compatible with LSTM layer)"
      ]
    },
    {
      "cell_type": "code",
      "metadata": {
        "id": "39xeB6Sc3NEJ"
      },
      "source": [
        "score = model.evaluate(test_pad, y_test, batch_size=70, verbose=0)\n",
        "print('Accuracy: {0:.0%}'.format(score[1]/1))\n",
        "print(\"Loss: %.4f\\n\" % score[0])\n",
        "\n",
        "# Tracage de l'accuracy et de la loss function\n",
        "plt.figure(figsize = (16,5))\n",
        "plt.subplot(1,2,1)\n",
        "plt.title('Accuracy')\n",
        "plt.plot(history.history['accuracy'], label = 'Model : training accuracy')\n",
        "plt.plot(history.history['val_accuracy'], label = 'Model : test accuracy')\n",
        "plt.legend()\n",
        "\n",
        "plt.subplot(1,2,2)\n",
        "plt.title('Loss')\n",
        "plt.plot(history.history['loss'], label = 'Model : training loss')\n",
        "plt.plot(history.history['val_loss'], label = 'Model : test loss')\n",
        "plt.legend()"
      ],
      "execution_count": null,
      "outputs": []
    },
    {
      "cell_type": "markdown",
      "metadata": {
        "id": "G_oTRivGZ74c"
      },
      "source": [
        "# Perspectives and next steps"
      ]
    },
    {
      "cell_type": "markdown",
      "metadata": {
        "id": "uYmw8iQFaEuJ"
      },
      "source": [
        "* Using aligned sequences instead of unaligned sequences to allow a better study of the functions and structures of the proteins. Aligned sequences can allow us to identify mutations, similarities between proteins, discover new functions of proteins using other proteins with same structure. We can also elucidate mechanisms of proteins implicated in diseases (incurable, cancer...)\n",
        "\n",
        "* Work with all classes instead of 1000 for better multi class classification\n",
        "\n",
        "* Experiment with different lengths of embeddings vectors for the protein sequences.\n",
        "\n",
        "* Investigate and verify if there exists any relationship between the biological properties of a protein family captured by our models.\n",
        "\n",
        "* Computational modeling and analysis of protein structures (docking, protein design, protein structure prediction) after validation the multi class classification.\n",
        "\n",
        "* Use another model and compare it with LSTM model (like ProtCNN)\n",
        "\n",
        "\n"
      ]
    },
    {
      "cell_type": "markdown",
      "metadata": {
        "id": "r_NFz7VRgaTq"
      },
      "source": [
        "# Report produced by **Khalil BEN RAYANA**"
      ]
    },
    {
      "cell_type": "code",
      "metadata": {
        "id": "UbmYBWGmgnzE"
      },
      "source": [
        ""
      ],
      "execution_count": null,
      "outputs": []
    }
  ]
}